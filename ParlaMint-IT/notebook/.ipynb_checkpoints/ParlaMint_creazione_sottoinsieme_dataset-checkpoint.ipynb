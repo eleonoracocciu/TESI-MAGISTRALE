{
 "cells": [
  {
   "cell_type": "code",
   "execution_count": 1,
   "id": "90b859c4",
   "metadata": {},
   "outputs": [],
   "source": [
    "import random\n",
    "from random import sample\n",
    "import pandas as pd\n",
    "from sklearn.model_selection import train_test_split"
   ]
  },
  {
   "cell_type": "code",
   "execution_count": 2,
   "id": "0db840f4",
   "metadata": {},
   "outputs": [],
   "source": [
    "path_dataset = \"../dataset/\"\n",
    "path_train_test = \"../dataset/train_test/\""
   ]
  },
  {
   "cell_type": "code",
   "execution_count": 3,
   "id": "0765f252",
   "metadata": {},
   "outputs": [],
   "source": [
    "def get_value_counts_of_classes(df, df_name):\n",
    "    \n",
    "    print(df_name.title())\n",
    "    print()\n",
    "    print(\"Classes\")\n",
    "    print(df['Class'].value_counts())"
   ]
  },
  {
   "cell_type": "code",
   "execution_count": 4,
   "id": "cbf8c407",
   "metadata": {},
   "outputs": [],
   "source": [
    "def crea_dataset_ridotto(df):\n",
    "    \n",
    "    \"\"\"Prendo 6000 esempi positivi e 6000 negativi, in modo da avere un dataset totale di 12000 frasi\"\"\"\n",
    "    \n",
    "    #lista_id da cui estrarre un campione di frasi non consecutive --> la frase 2 non segue la frase 1 --> Classe 1\n",
    "    frasi_non_consecutive = list(df[df['Class'] == 1]['Id'])\n",
    "    \n",
    "    #lista_id da cui estrarre un campione di frasi consecutive --> la frase 2 segue la frase 1 --> Classe 0\n",
    "    frasi_consecutive = list(df[df['Class'] == 0]['Id'])\n",
    "    \n",
    "    #campione di frasi non consecutive\n",
    "    sample_frasi_non_consecutive = sample(frasi_non_consecutive, 6000)\n",
    "    \n",
    "    #campione di frasi consecutive\n",
    "    sample_frasi_consecutive = sample(frasi_consecutive, 6000)\n",
    "    \n",
    "    #creo il dataset di frasi non consecutive\n",
    "    df_frasi_non_consecutive = df[df.Id.isin(sample_frasi_non_consecutive)]\n",
    "    \n",
    "    #creo il dataset di frasi consecutive\n",
    "    df_frasi_consecutive = df[df.Id.isin(sample_frasi_consecutive)]\n",
    "    \n",
    "    print(\"Controlliamo che ci siano soltanto esempi positivi e negativi nei rispettivi dataset\")\n",
    "    print(\"Dataset frasi non consecutive\")\n",
    "    print(\"Class\")\n",
    "    print(df_frasi_non_consecutive['Class'].value_counts())\n",
    "    print()\n",
    "    print(\"Dataset frasi consecutive\")\n",
    "    print(\"Class\")\n",
    "    print(df_frasi_consecutive['Class'].value_counts())\n",
    "    \n",
    "    #concateniamo i due dataset in modo da avere il dataset completo, non considerando gli indici,\n",
    "    #in modo da mantenere comunque indici diversi fra i diversi eventi\n",
    "    df_ridotto_finale = pd.concat([df_frasi_non_consecutive, df_frasi_consecutive], verify_integrity=True)\n",
    "    \n",
    "    print()\n",
    "    print(\"Informazioni sulle classi del dataset ridotto\")\n",
    "    print(df_ridotto_finale['Class'].value_counts())\n",
    "    \n",
    "    return df_ridotto_finale"
   ]
  },
  {
   "cell_type": "code",
   "execution_count": 5,
   "id": "0ddeb6cb",
   "metadata": {},
   "outputs": [],
   "source": [
    "def save_dataframe(file_name, dataframe_to_save, path):\n",
    "    \n",
    "    try:\n",
    "        dataframe_to_save.to_csv(path+file_name+\".csv\", index = False, sep = \"\\t\")\n",
    "        print(\"File salvato correttamente\")\n",
    "        \n",
    "    except:\n",
    "        print(\"Errore nel salvataggio\")\n",
    "    \n",
    "    return "
   ]
  },
  {
   "cell_type": "markdown",
   "id": "d29ca3de",
   "metadata": {},
   "source": [
    "# Dataset originali"
   ]
  },
  {
   "cell_type": "code",
   "execution_count": 6,
   "id": "3b08d7af",
   "metadata": {},
   "outputs": [],
   "source": [
    "df_dist_5_with_ids = pd.read_csv(\"../dataset/df_dist_5_with_ids.csv\", sep = \"\\t\")"
   ]
  },
  {
   "cell_type": "code",
   "execution_count": 7,
   "id": "5b6ce113",
   "metadata": {},
   "outputs": [],
   "source": [
    "df_dist_10_with_ids = pd.read_csv(\"../dataset/df_dist_10_with_ids.csv\", sep = \"\\t\")"
   ]
  },
  {
   "cell_type": "code",
   "execution_count": 8,
   "id": "a381a791",
   "metadata": {},
   "outputs": [],
   "source": [
    "df_dist_20_with_ids = pd.read_csv(\"../dataset/df_dist_20_with_ids.csv\", sep = \"\\t\")"
   ]
  },
  {
   "cell_type": "code",
   "execution_count": 9,
   "id": "e42366ad",
   "metadata": {},
   "outputs": [],
   "source": [
    "df_dist_30_with_ids = pd.read_csv(\"../dataset/df_dist_30_with_ids.csv\", sep = \"\\t\")"
   ]
  },
  {
   "cell_type": "code",
   "execution_count": 10,
   "id": "91447317",
   "metadata": {},
   "outputs": [],
   "source": [
    "df_random_speech_with_ids = pd.read_csv(\"../dataset/df_random_speech_with_ids.csv\", sep = \"\\t\")"
   ]
  },
  {
   "cell_type": "code",
   "execution_count": 11,
   "id": "57d79e91",
   "metadata": {},
   "outputs": [
    {
     "data": {
      "text/html": [
       "<div>\n",
       "<style scoped>\n",
       "    .dataframe tbody tr th:only-of-type {\n",
       "        vertical-align: middle;\n",
       "    }\n",
       "\n",
       "    .dataframe tbody tr th {\n",
       "        vertical-align: top;\n",
       "    }\n",
       "\n",
       "    .dataframe thead th {\n",
       "        text-align: right;\n",
       "    }\n",
       "</style>\n",
       "<table border=\"1\" class=\"dataframe\">\n",
       "  <thead>\n",
       "    <tr style=\"text-align: right;\">\n",
       "      <th></th>\n",
       "      <th>Id</th>\n",
       "      <th>Sentence_1</th>\n",
       "      <th>Sentence_2</th>\n",
       "      <th>Class</th>\n",
       "    </tr>\n",
       "  </thead>\n",
       "  <tbody>\n",
       "    <tr>\n",
       "      <th>0</th>\n",
       "      <td>173553</td>\n",
       "      <td>Credo che la discussione e la riflessione atto...</td>\n",
       "      <td>Si tratta, infatti, di temi rispetto ai quali ...</td>\n",
       "      <td>1</td>\n",
       "    </tr>\n",
       "    <tr>\n",
       "      <th>1</th>\n",
       "      <td>638764</td>\n",
       "      <td>Più di tutti gli altri Paesi del Consiglio d'E...</td>\n",
       "      <td>Deve essere effettivamente salvaguardato, e ad...</td>\n",
       "      <td>1</td>\n",
       "    </tr>\n",
       "    <tr>\n",
       "      <th>2</th>\n",
       "      <td>666493</td>\n",
       "      <td>La chiusura degli OPG, come ho detto, va ad am...</td>\n",
       "      <td>Per quanto riguarda l'articolo 2, sono già sta...</td>\n",
       "      <td>1</td>\n",
       "    </tr>\n",
       "    <tr>\n",
       "      <th>3</th>\n",
       "      <td>422873</td>\n",
       "      <td>Voglio infatti sottolineare un aspetto positiv...</td>\n",
       "      <td>Quando si parla di bambini malati di cancro o ...</td>\n",
       "      <td>1</td>\n",
       "    </tr>\n",
       "    <tr>\n",
       "      <th>4</th>\n",
       "      <td>708953</td>\n",
       "      <td>Si tratta di servizi che auspico si sviluppino...</td>\n",
       "      <td>Voglio solo aggiungere una considerazione.</td>\n",
       "      <td>1</td>\n",
       "    </tr>\n",
       "    <tr>\n",
       "      <th>...</th>\n",
       "      <td>...</td>\n",
       "      <td>...</td>\n",
       "      <td>...</td>\n",
       "      <td>...</td>\n",
       "    </tr>\n",
       "    <tr>\n",
       "      <th>523819</th>\n",
       "      <td>212307</td>\n",
       "      <td>Perché c'è voluta l'ondata di arresti del giug...</td>\n",
       "      <td>Ho parlato del MOSE, ma avrei potuto citare Ex...</td>\n",
       "      <td>0</td>\n",
       "    </tr>\n",
       "    <tr>\n",
       "      <th>523820</th>\n",
       "      <td>702643</td>\n",
       "      <td>Ho parlato del MOSE, ma avrei potuto citare Ex...</td>\n",
       "      <td>Non nascondo che, rispetto ai cantieri del fut...</td>\n",
       "      <td>0</td>\n",
       "    </tr>\n",
       "    <tr>\n",
       "      <th>523821</th>\n",
       "      <td>107953</td>\n",
       "      <td>Ricordiamolo: è stato compagno di strada dei r...</td>\n",
       "      <td>Lo definirei una sorta di anarchico struttural...</td>\n",
       "      <td>0</td>\n",
       "    </tr>\n",
       "    <tr>\n",
       "      <th>523822</th>\n",
       "      <td>275851</td>\n",
       "      <td>Non nascondo che, rispetto ai cantieri del fut...</td>\n",
       "      <td>Tutti, anche alla luce del nuovo codice degli ...</td>\n",
       "      <td>0</td>\n",
       "    </tr>\n",
       "    <tr>\n",
       "      <th>523823</th>\n",
       "      <td>651482</td>\n",
       "      <td>Onorevoli colleghi, è notizia di pochi minuti ...</td>\n",
       "      <td>Dario Fo, attore, autore e regista, ha innovat...</td>\n",
       "      <td>0</td>\n",
       "    </tr>\n",
       "  </tbody>\n",
       "</table>\n",
       "<p>523824 rows × 4 columns</p>\n",
       "</div>"
      ],
      "text/plain": [
       "            Id                                         Sentence_1  \\\n",
       "0       173553  Credo che la discussione e la riflessione atto...   \n",
       "1       638764  Più di tutti gli altri Paesi del Consiglio d'E...   \n",
       "2       666493  La chiusura degli OPG, come ho detto, va ad am...   \n",
       "3       422873  Voglio infatti sottolineare un aspetto positiv...   \n",
       "4       708953  Si tratta di servizi che auspico si sviluppino...   \n",
       "...        ...                                                ...   \n",
       "523819  212307  Perché c'è voluta l'ondata di arresti del giug...   \n",
       "523820  702643  Ho parlato del MOSE, ma avrei potuto citare Ex...   \n",
       "523821  107953  Ricordiamolo: è stato compagno di strada dei r...   \n",
       "523822  275851  Non nascondo che, rispetto ai cantieri del fut...   \n",
       "523823  651482  Onorevoli colleghi, è notizia di pochi minuti ...   \n",
       "\n",
       "                                               Sentence_2  Class  \n",
       "0       Si tratta, infatti, di temi rispetto ai quali ...      1  \n",
       "1       Deve essere effettivamente salvaguardato, e ad...      1  \n",
       "2       Per quanto riguarda l'articolo 2, sono già sta...      1  \n",
       "3       Quando si parla di bambini malati di cancro o ...      1  \n",
       "4              Voglio solo aggiungere una considerazione.      1  \n",
       "...                                                   ...    ...  \n",
       "523819  Ho parlato del MOSE, ma avrei potuto citare Ex...      0  \n",
       "523820  Non nascondo che, rispetto ai cantieri del fut...      0  \n",
       "523821  Lo definirei una sorta di anarchico struttural...      0  \n",
       "523822  Tutti, anche alla luce del nuovo codice degli ...      0  \n",
       "523823  Dario Fo, attore, autore e regista, ha innovat...      0  \n",
       "\n",
       "[523824 rows x 4 columns]"
      ]
     },
     "execution_count": 11,
     "metadata": {},
     "output_type": "execute_result"
    }
   ],
   "source": [
    "df_dist_5_with_ids"
   ]
  },
  {
   "cell_type": "code",
   "execution_count": 12,
   "id": "a14c4ac1",
   "metadata": {},
   "outputs": [
    {
     "data": {
      "text/plain": [
       "523824"
      ]
     },
     "execution_count": 12,
     "metadata": {},
     "output_type": "execute_result"
    }
   ],
   "source": [
    "df_dist_5_with_ids.shape[0]"
   ]
  },
  {
   "cell_type": "code",
   "execution_count": 13,
   "id": "92583298",
   "metadata": {},
   "outputs": [
    {
     "name": "stdout",
     "output_type": "stream",
     "text": [
      "Df_Dist_5_With_Ids\n",
      "\n",
      "Classes\n",
      "1    261912\n",
      "0    261912\n",
      "Name: Class, dtype: int64\n"
     ]
    }
   ],
   "source": [
    "get_value_counts_of_classes(df_dist_5_with_ids, 'df_dist_5_with_ids')"
   ]
  },
  {
   "cell_type": "code",
   "execution_count": 14,
   "id": "3959f39c",
   "metadata": {},
   "outputs": [
    {
     "data": {
      "text/plain": [
       "366352"
      ]
     },
     "execution_count": 14,
     "metadata": {},
     "output_type": "execute_result"
    }
   ],
   "source": [
    "df_dist_10_with_ids.shape[0]"
   ]
  },
  {
   "cell_type": "code",
   "execution_count": 15,
   "id": "6ba20943",
   "metadata": {},
   "outputs": [
    {
     "name": "stdout",
     "output_type": "stream",
     "text": [
      "Df_Dist_10_With_Ids\n",
      "\n",
      "Classes\n",
      "1    183176\n",
      "0    183176\n",
      "Name: Class, dtype: int64\n"
     ]
    }
   ],
   "source": [
    "get_value_counts_of_classes(df_dist_10_with_ids, 'df_dist_10_with_ids')"
   ]
  },
  {
   "cell_type": "code",
   "execution_count": 16,
   "id": "73b565dd",
   "metadata": {},
   "outputs": [
    {
     "data": {
      "text/plain": [
       "194308"
      ]
     },
     "execution_count": 16,
     "metadata": {},
     "output_type": "execute_result"
    }
   ],
   "source": [
    "df_dist_20_with_ids.shape[0]"
   ]
  },
  {
   "cell_type": "code",
   "execution_count": 17,
   "id": "d8483cbb",
   "metadata": {},
   "outputs": [
    {
     "name": "stdout",
     "output_type": "stream",
     "text": [
      "Df_Dist_20_With_Ids\n",
      "\n",
      "Classes\n",
      "1    97154\n",
      "0    97154\n",
      "Name: Class, dtype: int64\n"
     ]
    }
   ],
   "source": [
    "get_value_counts_of_classes(df_dist_20_with_ids, 'df_dist_20_with_ids')"
   ]
  },
  {
   "cell_type": "code",
   "execution_count": 18,
   "id": "f9942034",
   "metadata": {},
   "outputs": [
    {
     "data": {
      "text/plain": [
       "103990"
      ]
     },
     "execution_count": 18,
     "metadata": {},
     "output_type": "execute_result"
    }
   ],
   "source": [
    "df_dist_30_with_ids.shape[0]"
   ]
  },
  {
   "cell_type": "code",
   "execution_count": 19,
   "id": "3ca7ab1f",
   "metadata": {},
   "outputs": [
    {
     "name": "stdout",
     "output_type": "stream",
     "text": [
      "Df_Dist_30_With_Ids\n",
      "\n",
      "Classes\n",
      "1    51995\n",
      "0    51995\n",
      "Name: Class, dtype: int64\n"
     ]
    }
   ],
   "source": [
    "get_value_counts_of_classes(df_dist_30_with_ids, 'df_dist_30_with_ids')"
   ]
  },
  {
   "cell_type": "code",
   "execution_count": 20,
   "id": "592320ee",
   "metadata": {},
   "outputs": [
    {
     "data": {
      "text/plain": [
       "863664"
      ]
     },
     "execution_count": 20,
     "metadata": {},
     "output_type": "execute_result"
    }
   ],
   "source": [
    "df_random_speech_with_ids.shape[0]"
   ]
  },
  {
   "cell_type": "code",
   "execution_count": 21,
   "id": "518f011a",
   "metadata": {},
   "outputs": [
    {
     "name": "stdout",
     "output_type": "stream",
     "text": [
      "Df_Random_Speech_With_Ids\n",
      "\n",
      "Classes\n",
      "1    431832\n",
      "0    431832\n",
      "Name: Class, dtype: int64\n"
     ]
    }
   ],
   "source": [
    "get_value_counts_of_classes(df_random_speech_with_ids, 'df_random_speech_with_ids')"
   ]
  },
  {
   "cell_type": "markdown",
   "id": "a59db781",
   "metadata": {},
   "source": [
    "# Creazione dataset ridotti"
   ]
  },
  {
   "cell_type": "code",
   "execution_count": 22,
   "id": "32116767",
   "metadata": {},
   "outputs": [
    {
     "name": "stdout",
     "output_type": "stream",
     "text": [
      "Controlliamo che ci siano soltanto esempi positivi e negativi nei rispettivi dataset\n",
      "Dataset frasi non consecutive\n",
      "Class\n",
      "1    6000\n",
      "Name: Class, dtype: int64\n",
      "\n",
      "Dataset frasi consecutive\n",
      "Class\n",
      "0    6000\n",
      "Name: Class, dtype: int64\n",
      "\n",
      "Informazioni sulle classi del dataset ridotto\n",
      "1    6000\n",
      "0    6000\n",
      "Name: Class, dtype: int64\n"
     ]
    }
   ],
   "source": [
    "df_dist_5_with_ids_ridotto = crea_dataset_ridotto(df_dist_5_with_ids)"
   ]
  },
  {
   "cell_type": "code",
   "execution_count": 23,
   "id": "e3525c69",
   "metadata": {},
   "outputs": [
    {
     "name": "stdout",
     "output_type": "stream",
     "text": [
      "Controlliamo che ci siano soltanto esempi positivi e negativi nei rispettivi dataset\n",
      "Dataset frasi non consecutive\n",
      "Class\n",
      "1    6000\n",
      "Name: Class, dtype: int64\n",
      "\n",
      "Dataset frasi consecutive\n",
      "Class\n",
      "0    6000\n",
      "Name: Class, dtype: int64\n",
      "\n",
      "Informazioni sulle classi del dataset ridotto\n",
      "1    6000\n",
      "0    6000\n",
      "Name: Class, dtype: int64\n"
     ]
    }
   ],
   "source": [
    "df_dist_10_with_ids_ridotto = crea_dataset_ridotto(df_dist_10_with_ids)"
   ]
  },
  {
   "cell_type": "code",
   "execution_count": 24,
   "id": "3d6a8331",
   "metadata": {},
   "outputs": [
    {
     "name": "stdout",
     "output_type": "stream",
     "text": [
      "Controlliamo che ci siano soltanto esempi positivi e negativi nei rispettivi dataset\n",
      "Dataset frasi non consecutive\n",
      "Class\n",
      "1    6000\n",
      "Name: Class, dtype: int64\n",
      "\n",
      "Dataset frasi consecutive\n",
      "Class\n",
      "0    6000\n",
      "Name: Class, dtype: int64\n",
      "\n",
      "Informazioni sulle classi del dataset ridotto\n",
      "1    6000\n",
      "0    6000\n",
      "Name: Class, dtype: int64\n"
     ]
    }
   ],
   "source": [
    "df_dist_20_with_ids_ridotto = crea_dataset_ridotto(df_dist_20_with_ids)"
   ]
  },
  {
   "cell_type": "code",
   "execution_count": 25,
   "id": "c230d394",
   "metadata": {},
   "outputs": [
    {
     "name": "stdout",
     "output_type": "stream",
     "text": [
      "Controlliamo che ci siano soltanto esempi positivi e negativi nei rispettivi dataset\n",
      "Dataset frasi non consecutive\n",
      "Class\n",
      "1    6000\n",
      "Name: Class, dtype: int64\n",
      "\n",
      "Dataset frasi consecutive\n",
      "Class\n",
      "0    6000\n",
      "Name: Class, dtype: int64\n",
      "\n",
      "Informazioni sulle classi del dataset ridotto\n",
      "1    6000\n",
      "0    6000\n",
      "Name: Class, dtype: int64\n"
     ]
    }
   ],
   "source": [
    "df_dist_30_with_ids_ridotto = crea_dataset_ridotto(df_dist_30_with_ids)"
   ]
  },
  {
   "cell_type": "code",
   "execution_count": 26,
   "id": "a2cdcce7",
   "metadata": {},
   "outputs": [
    {
     "name": "stdout",
     "output_type": "stream",
     "text": [
      "Controlliamo che ci siano soltanto esempi positivi e negativi nei rispettivi dataset\n",
      "Dataset frasi non consecutive\n",
      "Class\n",
      "1    6000\n",
      "Name: Class, dtype: int64\n",
      "\n",
      "Dataset frasi consecutive\n",
      "Class\n",
      "0    6000\n",
      "Name: Class, dtype: int64\n",
      "\n",
      "Informazioni sulle classi del dataset ridotto\n",
      "1    6000\n",
      "0    6000\n",
      "Name: Class, dtype: int64\n"
     ]
    }
   ],
   "source": [
    "df_random_speech_with_ids_ridotto = crea_dataset_ridotto(df_random_speech_with_ids)"
   ]
  },
  {
   "cell_type": "code",
   "execution_count": null,
   "id": "b72b3213",
   "metadata": {},
   "outputs": [],
   "source": []
  },
  {
   "cell_type": "code",
   "execution_count": null,
   "id": "e0c43ede",
   "metadata": {},
   "outputs": [],
   "source": []
  },
  {
   "cell_type": "code",
   "execution_count": 27,
   "id": "a225e3b3",
   "metadata": {},
   "outputs": [
    {
     "data": {
      "text/html": [
       "<div>\n",
       "<style scoped>\n",
       "    .dataframe tbody tr th:only-of-type {\n",
       "        vertical-align: middle;\n",
       "    }\n",
       "\n",
       "    .dataframe tbody tr th {\n",
       "        vertical-align: top;\n",
       "    }\n",
       "\n",
       "    .dataframe thead th {\n",
       "        text-align: right;\n",
       "    }\n",
       "</style>\n",
       "<table border=\"1\" class=\"dataframe\">\n",
       "  <thead>\n",
       "    <tr style=\"text-align: right;\">\n",
       "      <th></th>\n",
       "      <th>Id</th>\n",
       "      <th>Sentence_1</th>\n",
       "      <th>Sentence_2</th>\n",
       "      <th>Class</th>\n",
       "    </tr>\n",
       "  </thead>\n",
       "  <tbody>\n",
       "    <tr>\n",
       "      <th>4</th>\n",
       "      <td>708953</td>\n",
       "      <td>Si tratta di servizi che auspico si sviluppino...</td>\n",
       "      <td>Voglio solo aggiungere una considerazione.</td>\n",
       "      <td>1</td>\n",
       "    </tr>\n",
       "    <tr>\n",
       "      <th>60</th>\n",
       "      <td>717529</td>\n",
       "      <td>Il provvedimento legislativo in esame non riso...</td>\n",
       "      <td>Non sarebbe dignitoso per nessuno, tanto meno ...</td>\n",
       "      <td>1</td>\n",
       "    </tr>\n",
       "    <tr>\n",
       "      <th>63</th>\n",
       "      <td>301544</td>\n",
       "      <td>Non può accadere che per l'ennesima volta - co...</td>\n",
       "      <td>A noi non compete andare a disquisire sul meri...</td>\n",
       "      <td>1</td>\n",
       "    </tr>\n",
       "    <tr>\n",
       "      <th>82</th>\n",
       "      <td>421269</td>\n",
       "      <td>Non è neanche in discussione se la politica de...</td>\n",
       "      <td>L'altra sollecitazione che la discussione gene...</td>\n",
       "      <td>1</td>\n",
       "    </tr>\n",
       "    <tr>\n",
       "      <th>157</th>\n",
       "      <td>378622</td>\n",
       "      <td>Ma l'iniziativa dei cittadini indica che una p...</td>\n",
       "      <td>È forse illusorio pensare che il solo successo...</td>\n",
       "      <td>1</td>\n",
       "    </tr>\n",
       "    <tr>\n",
       "      <th>...</th>\n",
       "      <td>...</td>\n",
       "      <td>...</td>\n",
       "      <td>...</td>\n",
       "      <td>...</td>\n",
       "    </tr>\n",
       "    <tr>\n",
       "      <th>523491</th>\n",
       "      <td>62585</td>\n",
       "      <td>Quel tempio ebraico non era un tempio ebraico ...</td>\n",
       "      <td>Ebbene, il nostro Governo, su una mozione di q...</td>\n",
       "      <td>0</td>\n",
       "    </tr>\n",
       "    <tr>\n",
       "      <th>523592</th>\n",
       "      <td>615318</td>\n",
       "      <td>Questo si può fare se ci sono chiarezza e cost...</td>\n",
       "      <td>Ha ragione il presidente Casini: è chiaro che ...</td>\n",
       "      <td>0</td>\n",
       "    </tr>\n",
       "    <tr>\n",
       "      <th>523702</th>\n",
       "      <td>297943</td>\n",
       "      <td>Con riguardo alla prevenzione è attualmente in...</td>\n",
       "      <td>È, inoltre, previsto il rafforzamento della si...</td>\n",
       "      <td>0</td>\n",
       "    </tr>\n",
       "    <tr>\n",
       "      <th>523705</th>\n",
       "      <td>510846</td>\n",
       "      <td>Lo scorso 4 febbraio, la Commissione europea h...</td>\n",
       "      <td>In Italia, ricordiamolo, in base ai dati ripor...</td>\n",
       "      <td>0</td>\n",
       "    </tr>\n",
       "    <tr>\n",
       "      <th>523754</th>\n",
       "      <td>457153</td>\n",
       "      <td>Il Governo si è anche impegnato - e di questo ...</td>\n",
       "      <td>Ai sensi del terzo punto del dispositivo di ta...</td>\n",
       "      <td>0</td>\n",
       "    </tr>\n",
       "  </tbody>\n",
       "</table>\n",
       "<p>12000 rows × 4 columns</p>\n",
       "</div>"
      ],
      "text/plain": [
       "            Id                                         Sentence_1  \\\n",
       "4       708953  Si tratta di servizi che auspico si sviluppino...   \n",
       "60      717529  Il provvedimento legislativo in esame non riso...   \n",
       "63      301544  Non può accadere che per l'ennesima volta - co...   \n",
       "82      421269  Non è neanche in discussione se la politica de...   \n",
       "157     378622  Ma l'iniziativa dei cittadini indica che una p...   \n",
       "...        ...                                                ...   \n",
       "523491   62585  Quel tempio ebraico non era un tempio ebraico ...   \n",
       "523592  615318  Questo si può fare se ci sono chiarezza e cost...   \n",
       "523702  297943  Con riguardo alla prevenzione è attualmente in...   \n",
       "523705  510846  Lo scorso 4 febbraio, la Commissione europea h...   \n",
       "523754  457153  Il Governo si è anche impegnato - e di questo ...   \n",
       "\n",
       "                                               Sentence_2  Class  \n",
       "4              Voglio solo aggiungere una considerazione.      1  \n",
       "60      Non sarebbe dignitoso per nessuno, tanto meno ...      1  \n",
       "63      A noi non compete andare a disquisire sul meri...      1  \n",
       "82      L'altra sollecitazione che la discussione gene...      1  \n",
       "157     È forse illusorio pensare che il solo successo...      1  \n",
       "...                                                   ...    ...  \n",
       "523491  Ebbene, il nostro Governo, su una mozione di q...      0  \n",
       "523592  Ha ragione il presidente Casini: è chiaro che ...      0  \n",
       "523702  È, inoltre, previsto il rafforzamento della si...      0  \n",
       "523705  In Italia, ricordiamolo, in base ai dati ripor...      0  \n",
       "523754  Ai sensi del terzo punto del dispositivo di ta...      0  \n",
       "\n",
       "[12000 rows x 4 columns]"
      ]
     },
     "execution_count": 27,
     "metadata": {},
     "output_type": "execute_result"
    }
   ],
   "source": [
    "df_dist_5_with_ids_ridotto"
   ]
  },
  {
   "cell_type": "code",
   "execution_count": 28,
   "id": "7b0466e8",
   "metadata": {},
   "outputs": [
    {
     "data": {
      "text/html": [
       "<div>\n",
       "<style scoped>\n",
       "    .dataframe tbody tr th:only-of-type {\n",
       "        vertical-align: middle;\n",
       "    }\n",
       "\n",
       "    .dataframe tbody tr th {\n",
       "        vertical-align: top;\n",
       "    }\n",
       "\n",
       "    .dataframe thead th {\n",
       "        text-align: right;\n",
       "    }\n",
       "</style>\n",
       "<table border=\"1\" class=\"dataframe\">\n",
       "  <thead>\n",
       "    <tr style=\"text-align: right;\">\n",
       "      <th></th>\n",
       "      <th>Id</th>\n",
       "      <th>Sentence_1</th>\n",
       "      <th>Sentence_2</th>\n",
       "      <th>Class</th>\n",
       "    </tr>\n",
       "  </thead>\n",
       "  <tbody>\n",
       "    <tr>\n",
       "      <th>30</th>\n",
       "      <td>670195</td>\n",
       "      <td>Leggerò pertanto la lettera, del 15 novembre s...</td>\n",
       "      <td>Sorprende, pertanto, che nell'insussistenza di...</td>\n",
       "      <td>1</td>\n",
       "    </tr>\n",
       "    <tr>\n",
       "      <th>31</th>\n",
       "      <td>377985</td>\n",
       "      <td>In sintesi, si trattava di tre punti: il primo...</td>\n",
       "      <td>Detto questo, arriviamo al nocciolo della ques...</td>\n",
       "      <td>1</td>\n",
       "    </tr>\n",
       "    <tr>\n",
       "      <th>54</th>\n",
       "      <td>489443</td>\n",
       "      <td>Attendiamo dunque - penso alla fine della mia ...</td>\n",
       "      <td>Alcuni dati.</td>\n",
       "      <td>1</td>\n",
       "    </tr>\n",
       "    <tr>\n",
       "      <th>55</th>\n",
       "      <td>582846</td>\n",
       "      <td>Come alcuni ricordano, l'esame del testo è sta...</td>\n",
       "      <td>La scelta da parte del Consorzio Shah Deniz di...</td>\n",
       "      <td>1</td>\n",
       "    </tr>\n",
       "    <tr>\n",
       "      <th>56</th>\n",
       "      <td>249783</td>\n",
       "      <td>Per citare un altro Regolamento speciale, anch...</td>\n",
       "      <td>Peraltro, non si riscontra alcun precedente in...</td>\n",
       "      <td>1</td>\n",
       "    </tr>\n",
       "    <tr>\n",
       "      <th>...</th>\n",
       "      <td>...</td>\n",
       "      <td>...</td>\n",
       "      <td>...</td>\n",
       "      <td>...</td>\n",
       "    </tr>\n",
       "    <tr>\n",
       "      <th>366114</th>\n",
       "      <td>64141</td>\n",
       "      <td>L'esperienza dei cinque anni dalla sua introdu...</td>\n",
       "      <td>A fronte di tali difficoltà, abbiamo deciso di...</td>\n",
       "      <td>0</td>\n",
       "    </tr>\n",
       "    <tr>\n",
       "      <th>366266</th>\n",
       "      <td>255334</td>\n",
       "      <td>Io le voglio rivendicare perché sono davvero i...</td>\n",
       "      <td>Non si risolverà tutto con questa legge: è vero.</td>\n",
       "      <td>0</td>\n",
       "    </tr>\n",
       "    <tr>\n",
       "      <th>366295</th>\n",
       "      <td>574936</td>\n",
       "      <td>Inoltre, nella cabina di regia si sono apporta...</td>\n",
       "      <td>In particolare fra i requisiti è stata richies...</td>\n",
       "      <td>0</td>\n",
       "    </tr>\n",
       "    <tr>\n",
       "      <th>366300</th>\n",
       "      <td>776948</td>\n",
       "      <td>Dopo la riscrittura del reato, siamo intervenu...</td>\n",
       "      <td>In particolare, al primo comma dell'articolo 1...</td>\n",
       "      <td>0</td>\n",
       "    </tr>\n",
       "    <tr>\n",
       "      <th>366347</th>\n",
       "      <td>866929</td>\n",
       "      <td>Signora Presidente, colleghe e colleghi, minis...</td>\n",
       "      <td>Ciò è vero, soprattutto in alcuni territori do...</td>\n",
       "      <td>0</td>\n",
       "    </tr>\n",
       "  </tbody>\n",
       "</table>\n",
       "<p>12000 rows × 4 columns</p>\n",
       "</div>"
      ],
      "text/plain": [
       "            Id                                         Sentence_1  \\\n",
       "30      670195  Leggerò pertanto la lettera, del 15 novembre s...   \n",
       "31      377985  In sintesi, si trattava di tre punti: il primo...   \n",
       "54      489443  Attendiamo dunque - penso alla fine della mia ...   \n",
       "55      582846  Come alcuni ricordano, l'esame del testo è sta...   \n",
       "56      249783  Per citare un altro Regolamento speciale, anch...   \n",
       "...        ...                                                ...   \n",
       "366114   64141  L'esperienza dei cinque anni dalla sua introdu...   \n",
       "366266  255334  Io le voglio rivendicare perché sono davvero i...   \n",
       "366295  574936  Inoltre, nella cabina di regia si sono apporta...   \n",
       "366300  776948  Dopo la riscrittura del reato, siamo intervenu...   \n",
       "366347  866929  Signora Presidente, colleghe e colleghi, minis...   \n",
       "\n",
       "                                               Sentence_2  Class  \n",
       "30      Sorprende, pertanto, che nell'insussistenza di...      1  \n",
       "31      Detto questo, arriviamo al nocciolo della ques...      1  \n",
       "54                                           Alcuni dati.      1  \n",
       "55      La scelta da parte del Consorzio Shah Deniz di...      1  \n",
       "56      Peraltro, non si riscontra alcun precedente in...      1  \n",
       "...                                                   ...    ...  \n",
       "366114  A fronte di tali difficoltà, abbiamo deciso di...      0  \n",
       "366266   Non si risolverà tutto con questa legge: è vero.      0  \n",
       "366295  In particolare fra i requisiti è stata richies...      0  \n",
       "366300  In particolare, al primo comma dell'articolo 1...      0  \n",
       "366347  Ciò è vero, soprattutto in alcuni territori do...      0  \n",
       "\n",
       "[12000 rows x 4 columns]"
      ]
     },
     "execution_count": 28,
     "metadata": {},
     "output_type": "execute_result"
    }
   ],
   "source": [
    "df_dist_10_with_ids_ridotto"
   ]
  },
  {
   "cell_type": "code",
   "execution_count": 29,
   "id": "4eb51a50",
   "metadata": {},
   "outputs": [
    {
     "data": {
      "text/html": [
       "<div>\n",
       "<style scoped>\n",
       "    .dataframe tbody tr th:only-of-type {\n",
       "        vertical-align: middle;\n",
       "    }\n",
       "\n",
       "    .dataframe tbody tr th {\n",
       "        vertical-align: top;\n",
       "    }\n",
       "\n",
       "    .dataframe thead th {\n",
       "        text-align: right;\n",
       "    }\n",
       "</style>\n",
       "<table border=\"1\" class=\"dataframe\">\n",
       "  <thead>\n",
       "    <tr style=\"text-align: right;\">\n",
       "      <th></th>\n",
       "      <th>Id</th>\n",
       "      <th>Sentence_1</th>\n",
       "      <th>Sentence_2</th>\n",
       "      <th>Class</th>\n",
       "    </tr>\n",
       "  </thead>\n",
       "  <tbody>\n",
       "    <tr>\n",
       "      <th>13</th>\n",
       "      <td>300332</td>\n",
       "      <td>E soprattutto: cosa c'entra la Costituzione?</td>\n",
       "      <td>Perché non va bene il bicameralismo paritario ...</td>\n",
       "      <td>1</td>\n",
       "    </tr>\n",
       "    <tr>\n",
       "      <th>15</th>\n",
       "      <td>862074</td>\n",
       "      <td>Avete bisogno di un percorso che restituisca f...</td>\n",
       "      <td>Voi dite: per la duplicazione dei compiti.</td>\n",
       "      <td>1</td>\n",
       "    </tr>\n",
       "    <tr>\n",
       "      <th>23</th>\n",
       "      <td>499127</td>\n",
       "      <td>«La 1ᵃ Commissione permanente, esaminato il di...</td>\n",
       "      <td>Il parere è di semplice contrarietà sulla prop...</td>\n",
       "      <td>1</td>\n",
       "    </tr>\n",
       "    <tr>\n",
       "      <th>67</th>\n",
       "      <td>559022</td>\n",
       "      <td>Alla luce di questo dato, e per non lasciare f...</td>\n",
       "      <td>Il risparmio può essere ottenuto, ma farlo tag...</td>\n",
       "      <td>1</td>\n",
       "    </tr>\n",
       "    <tr>\n",
       "      <th>81</th>\n",
       "      <td>454359</td>\n",
       "      <td>Se non siete capaci di fare quello per cui sta...</td>\n",
       "      <td>Ma la colpa di chi è?</td>\n",
       "      <td>1</td>\n",
       "    </tr>\n",
       "    <tr>\n",
       "      <th>...</th>\n",
       "      <td>...</td>\n",
       "      <td>...</td>\n",
       "      <td>...</td>\n",
       "      <td>...</td>\n",
       "    </tr>\n",
       "    <tr>\n",
       "      <th>194236</th>\n",
       "      <td>369701</td>\n",
       "      <td>Signor Presidente, le senatrici e i senatori d...</td>\n",
       "      <td>Tutti i senatori sanno che il Governo Renzi, p...</td>\n",
       "      <td>0</td>\n",
       "    </tr>\n",
       "    <tr>\n",
       "      <th>194245</th>\n",
       "      <td>232030</td>\n",
       "      <td>Strappare al centrodestra pezzetti e pezzettin...</td>\n",
       "      <td>Imporre il referendum come un voto di fiducia ...</td>\n",
       "      <td>0</td>\n",
       "    </tr>\n",
       "    <tr>\n",
       "      <th>194277</th>\n",
       "      <td>765621</td>\n",
       "      <td>Oggi siamo preoccupati.</td>\n",
       "      <td>Non siamo passati dalla parte del Patto di Var...</td>\n",
       "      <td>0</td>\n",
       "    </tr>\n",
       "    <tr>\n",
       "      <th>194282</th>\n",
       "      <td>39654</td>\n",
       "      <td>Signora Presidente, la ratifica del Protocollo...</td>\n",
       "      <td>Lo faccio naturalmente a titolo personale.</td>\n",
       "      <td>0</td>\n",
       "    </tr>\n",
       "    <tr>\n",
       "      <th>194296</th>\n",
       "      <td>781828</td>\n",
       "      <td>Signora Presidente, prima di entrare nel merit...</td>\n",
       "      <td>Mi chiedo se questo nostro Paese non sia in ca...</td>\n",
       "      <td>0</td>\n",
       "    </tr>\n",
       "  </tbody>\n",
       "</table>\n",
       "<p>12000 rows × 4 columns</p>\n",
       "</div>"
      ],
      "text/plain": [
       "            Id                                         Sentence_1  \\\n",
       "13      300332       E soprattutto: cosa c'entra la Costituzione?   \n",
       "15      862074  Avete bisogno di un percorso che restituisca f...   \n",
       "23      499127  «La 1ᵃ Commissione permanente, esaminato il di...   \n",
       "67      559022  Alla luce di questo dato, e per non lasciare f...   \n",
       "81      454359  Se non siete capaci di fare quello per cui sta...   \n",
       "...        ...                                                ...   \n",
       "194236  369701  Signor Presidente, le senatrici e i senatori d...   \n",
       "194245  232030  Strappare al centrodestra pezzetti e pezzettin...   \n",
       "194277  765621                            Oggi siamo preoccupati.   \n",
       "194282   39654  Signora Presidente, la ratifica del Protocollo...   \n",
       "194296  781828  Signora Presidente, prima di entrare nel merit...   \n",
       "\n",
       "                                               Sentence_2  Class  \n",
       "13      Perché non va bene il bicameralismo paritario ...      1  \n",
       "15             Voi dite: per la duplicazione dei compiti.      1  \n",
       "23      Il parere è di semplice contrarietà sulla prop...      1  \n",
       "67      Il risparmio può essere ottenuto, ma farlo tag...      1  \n",
       "81                                  Ma la colpa di chi è?      1  \n",
       "...                                                   ...    ...  \n",
       "194236  Tutti i senatori sanno che il Governo Renzi, p...      0  \n",
       "194245  Imporre il referendum come un voto di fiducia ...      0  \n",
       "194277  Non siamo passati dalla parte del Patto di Var...      0  \n",
       "194282         Lo faccio naturalmente a titolo personale.      0  \n",
       "194296  Mi chiedo se questo nostro Paese non sia in ca...      0  \n",
       "\n",
       "[12000 rows x 4 columns]"
      ]
     },
     "execution_count": 29,
     "metadata": {},
     "output_type": "execute_result"
    }
   ],
   "source": [
    "df_dist_20_with_ids_ridotto"
   ]
  },
  {
   "cell_type": "code",
   "execution_count": 30,
   "id": "cb498d1b",
   "metadata": {},
   "outputs": [
    {
     "data": {
      "text/html": [
       "<div>\n",
       "<style scoped>\n",
       "    .dataframe tbody tr th:only-of-type {\n",
       "        vertical-align: middle;\n",
       "    }\n",
       "\n",
       "    .dataframe tbody tr th {\n",
       "        vertical-align: top;\n",
       "    }\n",
       "\n",
       "    .dataframe thead th {\n",
       "        text-align: right;\n",
       "    }\n",
       "</style>\n",
       "<table border=\"1\" class=\"dataframe\">\n",
       "  <thead>\n",
       "    <tr style=\"text-align: right;\">\n",
       "      <th></th>\n",
       "      <th>Id</th>\n",
       "      <th>Sentence_1</th>\n",
       "      <th>Sentence_2</th>\n",
       "      <th>Class</th>\n",
       "    </tr>\n",
       "  </thead>\n",
       "  <tbody>\n",
       "    <tr>\n",
       "      <th>10</th>\n",
       "      <td>888200</td>\n",
       "      <td>Ora dobbiamo operare per trasformare in fatti ...</td>\n",
       "      <td>Il Governo italiano ha annunciato a San Pietro...</td>\n",
       "      <td>1</td>\n",
       "    </tr>\n",
       "    <tr>\n",
       "      <th>14</th>\n",
       "      <td>167350</td>\n",
       "      <td>Proprio questo riferimento ha aperto la strada...</td>\n",
       "      <td>A San Pietroburgo con alcuni Paesi alleati - t...</td>\n",
       "      <td>1</td>\n",
       "    </tr>\n",
       "    <tr>\n",
       "      <th>24</th>\n",
       "      <td>54634</td>\n",
       "      <td>Ogni crisi internazionale è una sfida per la p...</td>\n",
       "      <td>Tra qualche giorno partirò per New York, insie...</td>\n",
       "      <td>1</td>\n",
       "    </tr>\n",
       "    <tr>\n",
       "      <th>31</th>\n",
       "      <td>547936</td>\n",
       "      <td>Signor Presidente, intervengo sul calendario e...</td>\n",
       "      <td>Signor Presidente, oggi non sappiamo chi è mag...</td>\n",
       "      <td>1</td>\n",
       "    </tr>\n",
       "    <tr>\n",
       "      <th>49</th>\n",
       "      <td>344219</td>\n",
       "      <td>Credo sia un segnale positivo il fatto che le ...</td>\n",
       "      <td>Questo richiede di aver presente due nodi cruc...</td>\n",
       "      <td>1</td>\n",
       "    </tr>\n",
       "    <tr>\n",
       "      <th>...</th>\n",
       "      <td>...</td>\n",
       "      <td>...</td>\n",
       "      <td>...</td>\n",
       "      <td>...</td>\n",
       "    </tr>\n",
       "    <tr>\n",
       "      <th>103967</th>\n",
       "      <td>60222</td>\n",
       "      <td>Lo dico sempre: questo Governo ha fatto solame...</td>\n",
       "      <td>Nonostante la mancanza di una politica struttu...</td>\n",
       "      <td>0</td>\n",
       "    </tr>\n",
       "    <tr>\n",
       "      <th>103968</th>\n",
       "      <td>501838</td>\n",
       "      <td>Il Parlamento negli ultimi tempi è stato impeg...</td>\n",
       "      <td>Lo dico sempre: questo Governo ha fatto solame...</td>\n",
       "      <td>0</td>\n",
       "    </tr>\n",
       "    <tr>\n",
       "      <th>103973</th>\n",
       "      <td>783513</td>\n",
       "      <td>Voglio ricordare che già nel discorso di insed...</td>\n",
       "      <td>Non ci risulta che il Governo abbia fino ad og...</td>\n",
       "      <td>0</td>\n",
       "    </tr>\n",
       "    <tr>\n",
       "      <th>103986</th>\n",
       "      <td>524607</td>\n",
       "      <td>Noi, come Gruppo della Lega Nord, riteniamo ch...</td>\n",
       "      <td>I cittadini di Taranto pagano l'irresponsabili...</td>\n",
       "      <td>0</td>\n",
       "    </tr>\n",
       "    <tr>\n",
       "      <th>103989</th>\n",
       "      <td>292805</td>\n",
       "      <td>Poiché a breve sarà convocato un Consiglio di ...</td>\n",
       "      <td>Signor Presidente, per riprendere il discorso ...</td>\n",
       "      <td>0</td>\n",
       "    </tr>\n",
       "  </tbody>\n",
       "</table>\n",
       "<p>12000 rows × 4 columns</p>\n",
       "</div>"
      ],
      "text/plain": [
       "            Id                                         Sentence_1  \\\n",
       "10      888200  Ora dobbiamo operare per trasformare in fatti ...   \n",
       "14      167350  Proprio questo riferimento ha aperto la strada...   \n",
       "24       54634  Ogni crisi internazionale è una sfida per la p...   \n",
       "31      547936  Signor Presidente, intervengo sul calendario e...   \n",
       "49      344219  Credo sia un segnale positivo il fatto che le ...   \n",
       "...        ...                                                ...   \n",
       "103967   60222  Lo dico sempre: questo Governo ha fatto solame...   \n",
       "103968  501838  Il Parlamento negli ultimi tempi è stato impeg...   \n",
       "103973  783513  Voglio ricordare che già nel discorso di insed...   \n",
       "103986  524607  Noi, come Gruppo della Lega Nord, riteniamo ch...   \n",
       "103989  292805  Poiché a breve sarà convocato un Consiglio di ...   \n",
       "\n",
       "                                               Sentence_2  Class  \n",
       "10      Il Governo italiano ha annunciato a San Pietro...      1  \n",
       "14      A San Pietroburgo con alcuni Paesi alleati - t...      1  \n",
       "24      Tra qualche giorno partirò per New York, insie...      1  \n",
       "31      Signor Presidente, oggi non sappiamo chi è mag...      1  \n",
       "49      Questo richiede di aver presente due nodi cruc...      1  \n",
       "...                                                   ...    ...  \n",
       "103967  Nonostante la mancanza di una politica struttu...      0  \n",
       "103968  Lo dico sempre: questo Governo ha fatto solame...      0  \n",
       "103973  Non ci risulta che il Governo abbia fino ad og...      0  \n",
       "103986  I cittadini di Taranto pagano l'irresponsabili...      0  \n",
       "103989  Signor Presidente, per riprendere il discorso ...      0  \n",
       "\n",
       "[12000 rows x 4 columns]"
      ]
     },
     "execution_count": 30,
     "metadata": {},
     "output_type": "execute_result"
    }
   ],
   "source": [
    "df_dist_30_with_ids_ridotto"
   ]
  },
  {
   "cell_type": "code",
   "execution_count": 31,
   "id": "61f72b05",
   "metadata": {},
   "outputs": [
    {
     "data": {
      "text/html": [
       "<div>\n",
       "<style scoped>\n",
       "    .dataframe tbody tr th:only-of-type {\n",
       "        vertical-align: middle;\n",
       "    }\n",
       "\n",
       "    .dataframe tbody tr th {\n",
       "        vertical-align: top;\n",
       "    }\n",
       "\n",
       "    .dataframe thead th {\n",
       "        text-align: right;\n",
       "    }\n",
       "</style>\n",
       "<table border=\"1\" class=\"dataframe\">\n",
       "  <thead>\n",
       "    <tr style=\"text-align: right;\">\n",
       "      <th></th>\n",
       "      <th>Id</th>\n",
       "      <th>Sentence_1</th>\n",
       "      <th>Sentence_2</th>\n",
       "      <th>Class</th>\n",
       "    </tr>\n",
       "  </thead>\n",
       "  <tbody>\n",
       "    <tr>\n",
       "      <th>156</th>\n",
       "      <td>881194</td>\n",
       "      <td>Al riguardo, preannuncio fin d'ora l'intenzion...</td>\n",
       "      <td>Il primo interviene su una promessa, su un imp...</td>\n",
       "      <td>1</td>\n",
       "    </tr>\n",
       "    <tr>\n",
       "      <th>264</th>\n",
       "      <td>334043</td>\n",
       "      <td>Queste ultime, a mio modo di vedere - nel meri...</td>\n",
       "      <td>A nome dell'Assemblea, saluto gli studenti e i...</td>\n",
       "      <td>1</td>\n",
       "    </tr>\n",
       "    <tr>\n",
       "      <th>286</th>\n",
       "      <td>88965</td>\n",
       "      <td>Questo perché le donne tendono a denunciare pi...</td>\n",
       "      <td>Ricordo che nella seduta del 15 giugno è inter...</td>\n",
       "      <td>1</td>\n",
       "    </tr>\n",
       "    <tr>\n",
       "      <th>307</th>\n",
       "      <td>601496</td>\n",
       "      <td>Sono molto contenta dell'unanimità di contenut...</td>\n",
       "      <td>Com'è stato comunicato a tutti i Gruppi per le...</td>\n",
       "      <td>1</td>\n",
       "    </tr>\n",
       "    <tr>\n",
       "      <th>383</th>\n",
       "      <td>780825</td>\n",
       "      <td>Dunque, ho accettato le dimissioni del Capo di...</td>\n",
       "      <td>Il Senato tornerà a riunirsi in seduta pubblic...</td>\n",
       "      <td>1</td>\n",
       "    </tr>\n",
       "    <tr>\n",
       "      <th>...</th>\n",
       "      <td>...</td>\n",
       "      <td>...</td>\n",
       "      <td>...</td>\n",
       "      <td>...</td>\n",
       "    </tr>\n",
       "    <tr>\n",
       "      <th>863303</th>\n",
       "      <td>614031</td>\n",
       "      <td>Signora Presidente, nel dichiarare il voto fav...</td>\n",
       "      <td>Nel frattempo, infatti, la situazione relativa...</td>\n",
       "      <td>0</td>\n",
       "    </tr>\n",
       "    <tr>\n",
       "      <th>863371</th>\n",
       "      <td>397778</td>\n",
       "      <td>Lo scopo delle nuove norme europee, incluso l'...</td>\n",
       "      <td>Come i colleghi ricorderanno, l'Italia aveva i...</td>\n",
       "      <td>0</td>\n",
       "    </tr>\n",
       "    <tr>\n",
       "      <th>863396</th>\n",
       "      <td>420034</td>\n",
       "      <td>Il dispositivo della nostra mozione è chiariss...</td>\n",
       "      <td>Il collega Filippi ha fatto un cenno su come, ...</td>\n",
       "      <td>0</td>\n",
       "    </tr>\n",
       "    <tr>\n",
       "      <th>863439</th>\n",
       "      <td>277453</td>\n",
       "      <td>Noi, almeno, la pensiamo così.</td>\n",
       "      <td>Ma è anche vero che è inconcepibile che esista...</td>\n",
       "      <td>0</td>\n",
       "    </tr>\n",
       "    <tr>\n",
       "      <th>863458</th>\n",
       "      <td>843548</td>\n",
       "      <td>Signora Presidente, gli arresti delle scorse s...</td>\n",
       "      <td>Tutto ciò dimostra quanto sia fondamentale pro...</td>\n",
       "      <td>0</td>\n",
       "    </tr>\n",
       "  </tbody>\n",
       "</table>\n",
       "<p>12000 rows × 4 columns</p>\n",
       "</div>"
      ],
      "text/plain": [
       "            Id                                         Sentence_1  \\\n",
       "156     881194  Al riguardo, preannuncio fin d'ora l'intenzion...   \n",
       "264     334043  Queste ultime, a mio modo di vedere - nel meri...   \n",
       "286      88965  Questo perché le donne tendono a denunciare pi...   \n",
       "307     601496  Sono molto contenta dell'unanimità di contenut...   \n",
       "383     780825  Dunque, ho accettato le dimissioni del Capo di...   \n",
       "...        ...                                                ...   \n",
       "863303  614031  Signora Presidente, nel dichiarare il voto fav...   \n",
       "863371  397778  Lo scopo delle nuove norme europee, incluso l'...   \n",
       "863396  420034  Il dispositivo della nostra mozione è chiariss...   \n",
       "863439  277453                     Noi, almeno, la pensiamo così.   \n",
       "863458  843548  Signora Presidente, gli arresti delle scorse s...   \n",
       "\n",
       "                                               Sentence_2  Class  \n",
       "156     Il primo interviene su una promessa, su un imp...      1  \n",
       "264     A nome dell'Assemblea, saluto gli studenti e i...      1  \n",
       "286     Ricordo che nella seduta del 15 giugno è inter...      1  \n",
       "307     Com'è stato comunicato a tutti i Gruppi per le...      1  \n",
       "383     Il Senato tornerà a riunirsi in seduta pubblic...      1  \n",
       "...                                                   ...    ...  \n",
       "863303  Nel frattempo, infatti, la situazione relativa...      0  \n",
       "863371  Come i colleghi ricorderanno, l'Italia aveva i...      0  \n",
       "863396  Il collega Filippi ha fatto un cenno su come, ...      0  \n",
       "863439  Ma è anche vero che è inconcepibile che esista...      0  \n",
       "863458  Tutto ciò dimostra quanto sia fondamentale pro...      0  \n",
       "\n",
       "[12000 rows x 4 columns]"
      ]
     },
     "execution_count": 31,
     "metadata": {},
     "output_type": "execute_result"
    }
   ],
   "source": [
    "df_random_speech_with_ids_ridotto"
   ]
  },
  {
   "cell_type": "code",
   "execution_count": null,
   "id": "3dab8a4e",
   "metadata": {},
   "outputs": [],
   "source": []
  },
  {
   "cell_type": "code",
   "execution_count": null,
   "id": "61cd6974",
   "metadata": {},
   "outputs": [],
   "source": []
  },
  {
   "cell_type": "code",
   "execution_count": 32,
   "id": "a1720ba9",
   "metadata": {},
   "outputs": [
    {
     "name": "stdout",
     "output_type": "stream",
     "text": [
      "File salvato correttamente\n"
     ]
    }
   ],
   "source": [
    "save_dataframe(\"df_dist_5_with_ids_ridotto\", df_dist_5_with_ids_ridotto, path_dataset)"
   ]
  },
  {
   "cell_type": "code",
   "execution_count": 33,
   "id": "1f6b3848",
   "metadata": {},
   "outputs": [
    {
     "name": "stdout",
     "output_type": "stream",
     "text": [
      "File salvato correttamente\n"
     ]
    }
   ],
   "source": [
    "save_dataframe(\"df_dist_10_with_ids_ridotto\", df_dist_10_with_ids_ridotto, path_dataset)"
   ]
  },
  {
   "cell_type": "code",
   "execution_count": 34,
   "id": "7e55e727",
   "metadata": {},
   "outputs": [
    {
     "name": "stdout",
     "output_type": "stream",
     "text": [
      "File salvato correttamente\n"
     ]
    }
   ],
   "source": [
    "save_dataframe(\"df_dist_20_with_ids_ridotto\", df_dist_20_with_ids_ridotto, path_dataset)"
   ]
  },
  {
   "cell_type": "code",
   "execution_count": 35,
   "id": "0d8916d3",
   "metadata": {},
   "outputs": [
    {
     "name": "stdout",
     "output_type": "stream",
     "text": [
      "File salvato correttamente\n"
     ]
    }
   ],
   "source": [
    "save_dataframe(\"df_dist_30_with_ids_ridotto\", df_dist_30_with_ids_ridotto, path_dataset)"
   ]
  },
  {
   "cell_type": "code",
   "execution_count": 36,
   "id": "f860a44d",
   "metadata": {},
   "outputs": [
    {
     "name": "stdout",
     "output_type": "stream",
     "text": [
      "File salvato correttamente\n"
     ]
    }
   ],
   "source": [
    "save_dataframe(\"df_random_speech_with_ids_ridotto\", df_random_speech_with_ids_ridotto, path_dataset)"
   ]
  },
  {
   "cell_type": "markdown",
   "id": "1d845939",
   "metadata": {},
   "source": [
    "# Train and test extraction"
   ]
  },
  {
   "cell_type": "code",
   "execution_count": 37,
   "id": "87c00fe1",
   "metadata": {},
   "outputs": [],
   "source": [
    "def get_train_and_test(df):\n",
    "    \n",
    "    attributes = [col for col in df.columns if col != 'Class']\n",
    "    X = df[attributes]\n",
    "    y = df['Class']\n",
    "\n",
    "    X_train, X_test, y_train, y_test = train_test_split(X, y, test_size=0.2, stratify=y)\n",
    "\n",
    "    X_train['Class'] = y_train\n",
    "    X_test['Class'] = y_test\n",
    "    \n",
    "    print(\"Dettaglio delle classi nel training\")\n",
    "    print(X_train['Class'].value_counts())\n",
    "    print()\n",
    "    print(\"Dettaglio delle classi nel test\")\n",
    "    print(X_test['Class'].value_counts())\n",
    "    \n",
    "    return X_train, X_test"
   ]
  },
  {
   "cell_type": "code",
   "execution_count": 38,
   "id": "587e984d",
   "metadata": {},
   "outputs": [
    {
     "name": "stdout",
     "output_type": "stream",
     "text": [
      "Dettaglio delle classi nel training\n",
      "0    4800\n",
      "1    4800\n",
      "Name: Class, dtype: int64\n",
      "\n",
      "Dettaglio delle classi nel test\n",
      "1    1200\n",
      "0    1200\n",
      "Name: Class, dtype: int64\n"
     ]
    }
   ],
   "source": [
    "df_dist_5_with_ids_ridotto_train, df_dist_5_with_ids_ridotto_test = get_train_and_test(df_dist_5_with_ids_ridotto)"
   ]
  },
  {
   "cell_type": "code",
   "execution_count": 39,
   "id": "b355a873",
   "metadata": {},
   "outputs": [
    {
     "name": "stdout",
     "output_type": "stream",
     "text": [
      "Dettaglio delle classi nel training\n",
      "1    4800\n",
      "0    4800\n",
      "Name: Class, dtype: int64\n",
      "\n",
      "Dettaglio delle classi nel test\n",
      "1    1200\n",
      "0    1200\n",
      "Name: Class, dtype: int64\n"
     ]
    }
   ],
   "source": [
    "df_dist_10_with_ids_ridotto_train, df_dist_10_with_ids_ridotto_test = get_train_and_test(df_dist_10_with_ids_ridotto)"
   ]
  },
  {
   "cell_type": "code",
   "execution_count": 40,
   "id": "3a471c25",
   "metadata": {},
   "outputs": [
    {
     "name": "stdout",
     "output_type": "stream",
     "text": [
      "Dettaglio delle classi nel training\n",
      "1    4800\n",
      "0    4800\n",
      "Name: Class, dtype: int64\n",
      "\n",
      "Dettaglio delle classi nel test\n",
      "0    1200\n",
      "1    1200\n",
      "Name: Class, dtype: int64\n"
     ]
    }
   ],
   "source": [
    "df_dist_20_with_ids_ridotto_train, df_dist_20_with_ids_ridotto_test = get_train_and_test(df_dist_20_with_ids_ridotto)"
   ]
  },
  {
   "cell_type": "code",
   "execution_count": 41,
   "id": "f6cb3547",
   "metadata": {},
   "outputs": [
    {
     "name": "stdout",
     "output_type": "stream",
     "text": [
      "Dettaglio delle classi nel training\n",
      "0    4800\n",
      "1    4800\n",
      "Name: Class, dtype: int64\n",
      "\n",
      "Dettaglio delle classi nel test\n",
      "0    1200\n",
      "1    1200\n",
      "Name: Class, dtype: int64\n"
     ]
    }
   ],
   "source": [
    "df_dist_30_with_ids_ridotto_train, df_dist_30_with_ids_ridotto_test = get_train_and_test(df_dist_30_with_ids_ridotto)"
   ]
  },
  {
   "cell_type": "code",
   "execution_count": 42,
   "id": "220c2c43",
   "metadata": {},
   "outputs": [
    {
     "name": "stdout",
     "output_type": "stream",
     "text": [
      "Dettaglio delle classi nel training\n",
      "1    4800\n",
      "0    4800\n",
      "Name: Class, dtype: int64\n",
      "\n",
      "Dettaglio delle classi nel test\n",
      "0    1200\n",
      "1    1200\n",
      "Name: Class, dtype: int64\n"
     ]
    }
   ],
   "source": [
    "df_random_speech_with_ids_ridotto_train, \\\n",
    "df_random_speech_with_ids_ridotto_test = get_train_and_test(df_random_speech_with_ids_ridotto)"
   ]
  },
  {
   "cell_type": "code",
   "execution_count": null,
   "id": "09f5a4c0",
   "metadata": {},
   "outputs": [],
   "source": []
  },
  {
   "cell_type": "code",
   "execution_count": 43,
   "id": "c61261ec",
   "metadata": {},
   "outputs": [],
   "source": [
    "def control_datasets_shape(list_of_dfs_train, list_of_dfs_test, list_of_dfs_names):\n",
    "    \n",
    "    for train, test, df_name in zip(list_of_dfs_train, list_of_dfs_test, list_of_dfs_names):\n",
    "        print(\"{} train shape: {}\".format(df_name, train.shape))\n",
    "        print(\"{} test shape: {}\".format(df_name, test.shape))\n",
    "        print()"
   ]
  },
  {
   "cell_type": "code",
   "execution_count": 44,
   "id": "8dca451b",
   "metadata": {},
   "outputs": [
    {
     "name": "stdout",
     "output_type": "stream",
     "text": [
      "df_dist_5_with_ids_ridotto train shape: (9600, 4)\n",
      "df_dist_5_with_ids_ridotto test shape: (2400, 4)\n",
      "\n",
      "df_dist_10_with_ids_ridotto train shape: (9600, 4)\n",
      "df_dist_10_with_ids_ridotto test shape: (2400, 4)\n",
      "\n",
      "df_dist_20_with_ids_ridotto train shape: (9600, 4)\n",
      "df_dist_20_with_ids_ridotto test shape: (2400, 4)\n",
      "\n",
      "df_dist_30_with_ids_ridotto train shape: (9600, 4)\n",
      "df_dist_30_with_ids_ridotto test shape: (2400, 4)\n",
      "\n",
      "df_random_speech_with_ids_ridotto train shape: (9600, 4)\n",
      "df_random_speech_with_ids_ridotto test shape: (2400, 4)\n",
      "\n"
     ]
    }
   ],
   "source": [
    "control_datasets_shape([df_dist_5_with_ids_ridotto_train, df_dist_10_with_ids_ridotto_train, \\\n",
    "                        df_dist_20_with_ids_ridotto_train, df_dist_30_with_ids_ridotto_train, \\\n",
    "                        df_random_speech_with_ids_ridotto_train,], \\\n",
    "                       [df_dist_5_with_ids_ridotto_test, df_dist_10_with_ids_ridotto_test, \\\n",
    "                        df_dist_20_with_ids_ridotto_test, df_dist_30_with_ids_ridotto_test, \\\n",
    "                        df_random_speech_with_ids_ridotto_test], \\\n",
    "                       [\"df_dist_5_with_ids_ridotto\", \"df_dist_10_with_ids_ridotto\", \"df_dist_20_with_ids_ridotto\", \\\n",
    "                       \"df_dist_30_with_ids_ridotto\", \"df_random_speech_with_ids_ridotto\"])"
   ]
  },
  {
   "cell_type": "code",
   "execution_count": 45,
   "id": "df74b1a2",
   "metadata": {},
   "outputs": [],
   "source": [
    "#df_dist_5_with_ids_ridotto_train = pd.read_csv(path_train_test + 'df_dist_5_with_ids_ridotto_train.csv', sep =\"\\t\")\n",
    "#df_dist_10_with_ids_ridotto_train = pd.read_csv(path_train_test + 'df_dist_10_with_ids_ridotto_train.csv', sep =\"\\t\")\n",
    "#df_dist_20_with_ids_ridotto_train = pd.read_csv(path_train_test + 'df_dist_20_with_ids_ridotto_train.csv', sep =\"\\t\")\n",
    "#df_dist_30_with_ids_ridotto_train = pd.read_csv(path_train_test + 'df_dist_30_with_ids_ridotto_train.csv', sep =\"\\t\")\n",
    "\n",
    "#df_dist_5_with_ids_ridotto_test = pd.read_csv(path_train_test + 'df_dist_5_with_ids_ridotto_test.csv', sep =\"\\t\")\n",
    "#df_dist_10_with_ids_ridotto_test = pd.read_csv(path_train_test + 'df_dist_10_with_ids_ridotto_test.csv', sep =\"\\t\")\n",
    "#df_dist_20_with_ids_ridotto_test = pd.read_csv(path_train_test + 'df_dist_20_with_ids_ridotto_test.csv', sep =\"\\t\")\n",
    "#df_dist_30_with_ids_ridotto_test = pd.read_csv(path_train_test + 'df_dist_30_with_ids_ridotto_test.csv', sep =\"\\t\")"
   ]
  },
  {
   "cell_type": "code",
   "execution_count": 46,
   "id": "34fb618a",
   "metadata": {},
   "outputs": [],
   "source": [
    "def controlla_integrita_indici_train_test(df_train, df_test):\n",
    "    \n",
    "    set_ids_train = set(df_train.Id)\n",
    "    set_ids_test = set(df_test.Id)\n",
    "    \n",
    "    intersection = set_ids_train.intersection(set_ids_test)\n",
    "    \n",
    "    if intersection:\n",
    "        return \"I due dataset contengono i seguenti indici in comune: {}\".format(\", \".join(intersection))\n",
    "    else:\n",
    "        return \"Intersezione vuota\""
   ]
  },
  {
   "cell_type": "code",
   "execution_count": 47,
   "id": "0152e449",
   "metadata": {},
   "outputs": [
    {
     "data": {
      "text/plain": [
       "'Intersezione vuota'"
      ]
     },
     "execution_count": 47,
     "metadata": {},
     "output_type": "execute_result"
    }
   ],
   "source": [
    "controlla_integrita_indici_train_test(df_dist_5_with_ids_ridotto_train, df_dist_5_with_ids_ridotto_test)"
   ]
  },
  {
   "cell_type": "code",
   "execution_count": 48,
   "id": "9eadcdd4",
   "metadata": {},
   "outputs": [
    {
     "data": {
      "text/plain": [
       "'Intersezione vuota'"
      ]
     },
     "execution_count": 48,
     "metadata": {},
     "output_type": "execute_result"
    }
   ],
   "source": [
    "controlla_integrita_indici_train_test(df_dist_10_with_ids_ridotto_train, df_dist_10_with_ids_ridotto_test)"
   ]
  },
  {
   "cell_type": "code",
   "execution_count": 49,
   "id": "fe4df210",
   "metadata": {},
   "outputs": [
    {
     "data": {
      "text/plain": [
       "'Intersezione vuota'"
      ]
     },
     "execution_count": 49,
     "metadata": {},
     "output_type": "execute_result"
    }
   ],
   "source": [
    "controlla_integrita_indici_train_test(df_dist_20_with_ids_ridotto_train, df_dist_20_with_ids_ridotto_test)"
   ]
  },
  {
   "cell_type": "code",
   "execution_count": 50,
   "id": "d06fd885",
   "metadata": {},
   "outputs": [
    {
     "data": {
      "text/plain": [
       "'Intersezione vuota'"
      ]
     },
     "execution_count": 50,
     "metadata": {},
     "output_type": "execute_result"
    }
   ],
   "source": [
    "controlla_integrita_indici_train_test(df_dist_30_with_ids_ridotto_train, df_dist_30_with_ids_ridotto_test)"
   ]
  },
  {
   "cell_type": "code",
   "execution_count": 51,
   "id": "858add35",
   "metadata": {},
   "outputs": [
    {
     "data": {
      "text/plain": [
       "'Intersezione vuota'"
      ]
     },
     "execution_count": 51,
     "metadata": {},
     "output_type": "execute_result"
    }
   ],
   "source": [
    "controlla_integrita_indici_train_test(df_random_speech_with_ids_ridotto_train, \\\n",
    "                                      df_random_speech_with_ids_ridotto_test)"
   ]
  },
  {
   "cell_type": "code",
   "execution_count": null,
   "id": "61d51271",
   "metadata": {},
   "outputs": [],
   "source": []
  },
  {
   "cell_type": "code",
   "execution_count": 52,
   "id": "3d120b19",
   "metadata": {},
   "outputs": [
    {
     "name": "stdout",
     "output_type": "stream",
     "text": [
      "File salvato correttamente\n"
     ]
    }
   ],
   "source": [
    "save_dataframe(\"df_dist_5_with_ids_ridotto_train\", df_dist_5_with_ids_ridotto_train, path_train_test)"
   ]
  },
  {
   "cell_type": "code",
   "execution_count": 53,
   "id": "07fb4141",
   "metadata": {},
   "outputs": [
    {
     "name": "stdout",
     "output_type": "stream",
     "text": [
      "File salvato correttamente\n"
     ]
    }
   ],
   "source": [
    "save_dataframe(\"df_dist_5_with_ids_ridotto_test\", df_dist_5_with_ids_ridotto_test, path_train_test)"
   ]
  },
  {
   "cell_type": "code",
   "execution_count": 54,
   "id": "e0defab6",
   "metadata": {},
   "outputs": [
    {
     "name": "stdout",
     "output_type": "stream",
     "text": [
      "File salvato correttamente\n"
     ]
    }
   ],
   "source": [
    "save_dataframe(\"df_dist_10_with_ids_ridotto_train\", df_dist_10_with_ids_ridotto_train, path_train_test)"
   ]
  },
  {
   "cell_type": "code",
   "execution_count": 55,
   "id": "23e5351d",
   "metadata": {},
   "outputs": [
    {
     "name": "stdout",
     "output_type": "stream",
     "text": [
      "File salvato correttamente\n"
     ]
    }
   ],
   "source": [
    "save_dataframe(\"df_dist_10_with_ids_ridotto_test\", df_dist_10_with_ids_ridotto_test, path_train_test)"
   ]
  },
  {
   "cell_type": "code",
   "execution_count": 56,
   "id": "8d653d14",
   "metadata": {},
   "outputs": [
    {
     "name": "stdout",
     "output_type": "stream",
     "text": [
      "File salvato correttamente\n"
     ]
    }
   ],
   "source": [
    "save_dataframe(\"df_dist_20_with_ids_ridotto_train\", df_dist_20_with_ids_ridotto_train, path_train_test)"
   ]
  },
  {
   "cell_type": "code",
   "execution_count": 57,
   "id": "320e04ba",
   "metadata": {},
   "outputs": [
    {
     "name": "stdout",
     "output_type": "stream",
     "text": [
      "File salvato correttamente\n"
     ]
    }
   ],
   "source": [
    "save_dataframe(\"df_dist_20_with_ids_ridotto_test\", df_dist_20_with_ids_ridotto_test, path_train_test)"
   ]
  },
  {
   "cell_type": "code",
   "execution_count": 58,
   "id": "3e12e4e3",
   "metadata": {},
   "outputs": [
    {
     "name": "stdout",
     "output_type": "stream",
     "text": [
      "File salvato correttamente\n"
     ]
    }
   ],
   "source": [
    "save_dataframe(\"df_dist_30_with_ids_ridotto_train\", df_dist_30_with_ids_ridotto_train, path_train_test)"
   ]
  },
  {
   "cell_type": "code",
   "execution_count": 59,
   "id": "1eef6afe",
   "metadata": {},
   "outputs": [
    {
     "name": "stdout",
     "output_type": "stream",
     "text": [
      "File salvato correttamente\n"
     ]
    }
   ],
   "source": [
    "save_dataframe(\"df_dist_30_with_ids_ridotto_test\", df_dist_30_with_ids_ridotto_test, path_train_test)"
   ]
  },
  {
   "cell_type": "code",
   "execution_count": 60,
   "id": "1aa717d2",
   "metadata": {},
   "outputs": [
    {
     "name": "stdout",
     "output_type": "stream",
     "text": [
      "File salvato correttamente\n"
     ]
    }
   ],
   "source": [
    "save_dataframe(\"df_random_speech_with_ids_ridotto_train\", df_random_speech_with_ids_ridotto_train, path_train_test)"
   ]
  },
  {
   "cell_type": "code",
   "execution_count": 61,
   "id": "a9b83dc3",
   "metadata": {},
   "outputs": [
    {
     "name": "stdout",
     "output_type": "stream",
     "text": [
      "File salvato correttamente\n"
     ]
    }
   ],
   "source": [
    "save_dataframe(\"df_random_speech_with_ids_ridotto_test\", df_random_speech_with_ids_ridotto_test, path_train_test)"
   ]
  },
  {
   "cell_type": "code",
   "execution_count": null,
   "id": "0c9f4ddc",
   "metadata": {},
   "outputs": [],
   "source": []
  },
  {
   "cell_type": "code",
   "execution_count": 62,
   "id": "15137bc2",
   "metadata": {},
   "outputs": [
    {
     "data": {
      "text/html": [
       "<div>\n",
       "<style scoped>\n",
       "    .dataframe tbody tr th:only-of-type {\n",
       "        vertical-align: middle;\n",
       "    }\n",
       "\n",
       "    .dataframe tbody tr th {\n",
       "        vertical-align: top;\n",
       "    }\n",
       "\n",
       "    .dataframe thead th {\n",
       "        text-align: right;\n",
       "    }\n",
       "</style>\n",
       "<table border=\"1\" class=\"dataframe\">\n",
       "  <thead>\n",
       "    <tr style=\"text-align: right;\">\n",
       "      <th></th>\n",
       "      <th>Id</th>\n",
       "      <th>Sentence_1</th>\n",
       "      <th>Sentence_2</th>\n",
       "      <th>Class</th>\n",
       "    </tr>\n",
       "  </thead>\n",
       "  <tbody>\n",
       "    <tr>\n",
       "      <th>296991</th>\n",
       "      <td>342654</td>\n",
       "      <td>È stato, inoltre, avviato un programma di iniz...</td>\n",
       "      <td>Al miglioramento dei rapporti con l'esterno si...</td>\n",
       "      <td>0</td>\n",
       "    </tr>\n",
       "    <tr>\n",
       "      <th>377742</th>\n",
       "      <td>812376</td>\n",
       "      <td>Vogliamo poi garantire a tutti gli italiani la...</td>\n",
       "      <td>Sul punto possiamo dire che con il decreto - l...</td>\n",
       "      <td>1</td>\n",
       "    </tr>\n",
       "    <tr>\n",
       "      <th>171543</th>\n",
       "      <td>78713</td>\n",
       "      <td>Viene stabilita poi una disciplina specifica s...</td>\n",
       "      <td>Attraverso una serie di disposizioni viene inc...</td>\n",
       "      <td>1</td>\n",
       "    </tr>\n",
       "    <tr>\n",
       "      <th>14486</th>\n",
       "      <td>513992</td>\n",
       "      <td>Nel rispetto del Parlamento, credo sia essenzi...</td>\n",
       "      <td>Con riferimento invece alla specifica vicenda ...</td>\n",
       "      <td>1</td>\n",
       "    </tr>\n",
       "    <tr>\n",
       "      <th>294182</th>\n",
       "      <td>350768</td>\n",
       "      <td>Come dice qualcuno, è davvero complicato ferma...</td>\n",
       "      <td>Da ultimo, avevamo voluto accogliere - ma non ...</td>\n",
       "      <td>0</td>\n",
       "    </tr>\n",
       "    <tr>\n",
       "      <th>...</th>\n",
       "      <td>...</td>\n",
       "      <td>...</td>\n",
       "      <td>...</td>\n",
       "      <td>...</td>\n",
       "    </tr>\n",
       "    <tr>\n",
       "      <th>182330</th>\n",
       "      <td>550333</td>\n",
       "      <td>Colleghi, un trattato che è stato voluto a liv...</td>\n",
       "      <td>Il nostro Paese ha avuto una sua legislazione ...</td>\n",
       "      <td>0</td>\n",
       "    </tr>\n",
       "    <tr>\n",
       "      <th>405998</th>\n",
       "      <td>634248</td>\n",
       "      <td>E, invece, c'è chi, in perenne campagna eletto...</td>\n",
       "      <td>È dal 2 giugno scorso che siamo costretti a su...</td>\n",
       "      <td>0</td>\n",
       "    </tr>\n",
       "    <tr>\n",
       "      <th>319682</th>\n",
       "      <td>401365</td>\n",
       "      <td>Dal che derivarono delle conseguenze politiche...</td>\n",
       "      <td>È stato citato prima un intervento del senator...</td>\n",
       "      <td>1</td>\n",
       "    </tr>\n",
       "    <tr>\n",
       "      <th>70521</th>\n",
       "      <td>126274</td>\n",
       "      <td>Signor Presidente, onorevoli senatori, le inte...</td>\n",
       "      <td>In seguito, il Parlamento europeo, con risoluz...</td>\n",
       "      <td>1</td>\n",
       "    </tr>\n",
       "    <tr>\n",
       "      <th>241989</th>\n",
       "      <td>894547</td>\n",
       "      <td>Con un'alchimia istituzionale scorretta, perch...</td>\n",
       "      <td>Ritengo - e lo dico sempre - che tre siano i p...</td>\n",
       "      <td>1</td>\n",
       "    </tr>\n",
       "  </tbody>\n",
       "</table>\n",
       "<p>9600 rows × 4 columns</p>\n",
       "</div>"
      ],
      "text/plain": [
       "            Id                                         Sentence_1  \\\n",
       "296991  342654  È stato, inoltre, avviato un programma di iniz...   \n",
       "377742  812376  Vogliamo poi garantire a tutti gli italiani la...   \n",
       "171543   78713  Viene stabilita poi una disciplina specifica s...   \n",
       "14486   513992  Nel rispetto del Parlamento, credo sia essenzi...   \n",
       "294182  350768  Come dice qualcuno, è davvero complicato ferma...   \n",
       "...        ...                                                ...   \n",
       "182330  550333  Colleghi, un trattato che è stato voluto a liv...   \n",
       "405998  634248  E, invece, c'è chi, in perenne campagna eletto...   \n",
       "319682  401365  Dal che derivarono delle conseguenze politiche...   \n",
       "70521   126274  Signor Presidente, onorevoli senatori, le inte...   \n",
       "241989  894547  Con un'alchimia istituzionale scorretta, perch...   \n",
       "\n",
       "                                               Sentence_2  Class  \n",
       "296991  Al miglioramento dei rapporti con l'esterno si...      0  \n",
       "377742  Sul punto possiamo dire che con il decreto - l...      1  \n",
       "171543  Attraverso una serie di disposizioni viene inc...      1  \n",
       "14486   Con riferimento invece alla specifica vicenda ...      1  \n",
       "294182  Da ultimo, avevamo voluto accogliere - ma non ...      0  \n",
       "...                                                   ...    ...  \n",
       "182330  Il nostro Paese ha avuto una sua legislazione ...      0  \n",
       "405998  È dal 2 giugno scorso che siamo costretti a su...      0  \n",
       "319682  È stato citato prima un intervento del senator...      1  \n",
       "70521   In seguito, il Parlamento europeo, con risoluz...      1  \n",
       "241989  Ritengo - e lo dico sempre - che tre siano i p...      1  \n",
       "\n",
       "[9600 rows x 4 columns]"
      ]
     },
     "execution_count": 62,
     "metadata": {},
     "output_type": "execute_result"
    }
   ],
   "source": [
    "df_dist_5_with_ids_ridotto_train"
   ]
  },
  {
   "cell_type": "code",
   "execution_count": 63,
   "id": "52fef1d0",
   "metadata": {},
   "outputs": [
    {
     "data": {
      "text/html": [
       "<div>\n",
       "<style scoped>\n",
       "    .dataframe tbody tr th:only-of-type {\n",
       "        vertical-align: middle;\n",
       "    }\n",
       "\n",
       "    .dataframe tbody tr th {\n",
       "        vertical-align: top;\n",
       "    }\n",
       "\n",
       "    .dataframe thead th {\n",
       "        text-align: right;\n",
       "    }\n",
       "</style>\n",
       "<table border=\"1\" class=\"dataframe\">\n",
       "  <thead>\n",
       "    <tr style=\"text-align: right;\">\n",
       "      <th></th>\n",
       "      <th>Id</th>\n",
       "      <th>Sentence_1</th>\n",
       "      <th>Sentence_2</th>\n",
       "      <th>Class</th>\n",
       "    </tr>\n",
       "  </thead>\n",
       "  <tbody>\n",
       "    <tr>\n",
       "      <th>20507</th>\n",
       "      <td>3511</td>\n",
       "      <td>È questo «in nome del popolo italiano»?</td>\n",
       "      <td>Signor Presidente, ho chiesto di intervenire a...</td>\n",
       "      <td>1</td>\n",
       "    </tr>\n",
       "    <tr>\n",
       "      <th>472138</th>\n",
       "      <td>443194</td>\n",
       "      <td>Non guardiamo a soluzioni come l'erezione di m...</td>\n",
       "      <td>Tutto ciò deve necessariamente avvenire attrav...</td>\n",
       "      <td>1</td>\n",
       "    </tr>\n",
       "    <tr>\n",
       "      <th>489217</th>\n",
       "      <td>438394</td>\n",
       "      <td>La popolazione carceraria è scesa a 52.164 e s...</td>\n",
       "      <td>Sei anni fa i detenuti erano 67.971 e 21.494 l...</td>\n",
       "      <td>0</td>\n",
       "    </tr>\n",
       "    <tr>\n",
       "      <th>66331</th>\n",
       "      <td>313751</td>\n",
       "      <td>Mi fermo perché non voglio offendere nessuno, ...</td>\n",
       "      <td>Ci ridono dietro!</td>\n",
       "      <td>1</td>\n",
       "    </tr>\n",
       "    <tr>\n",
       "      <th>377643</th>\n",
       "      <td>488165</td>\n",
       "      <td>La prima riunione europea dei Ministri della s...</td>\n",
       "      <td>Siamo un grande Paese, che ha svolto un lavoro...</td>\n",
       "      <td>1</td>\n",
       "    </tr>\n",
       "    <tr>\n",
       "      <th>...</th>\n",
       "      <td>...</td>\n",
       "      <td>...</td>\n",
       "      <td>...</td>\n",
       "      <td>...</td>\n",
       "    </tr>\n",
       "    <tr>\n",
       "      <th>111820</th>\n",
       "      <td>35231</td>\n",
       "      <td>Non è un caso che il Governo e la maggioranza ...</td>\n",
       "      <td>Ma neanche il testo di mediazione che la Commi...</td>\n",
       "      <td>0</td>\n",
       "    </tr>\n",
       "    <tr>\n",
       "      <th>387157</th>\n",
       "      <td>300044</td>\n",
       "      <td>Anzi, svolse sempre con passione e consapevole...</td>\n",
       "      <td>Con lui scompare una figura importante della s...</td>\n",
       "      <td>0</td>\n",
       "    </tr>\n",
       "    <tr>\n",
       "      <th>230240</th>\n",
       "      <td>74207</td>\n",
       "      <td>È chiaro che una catastrofe delle dimensioni d...</td>\n",
       "      <td>Cito, prima di invitare l'Assemblea all'approv...</td>\n",
       "      <td>1</td>\n",
       "    </tr>\n",
       "    <tr>\n",
       "      <th>470895</th>\n",
       "      <td>390608</td>\n",
       "      <td>Se doveva cadere così in basso, era più dignit...</td>\n",
       "      <td>Un'Assemblea tanto grande quanto debole, i cui...</td>\n",
       "      <td>1</td>\n",
       "    </tr>\n",
       "    <tr>\n",
       "      <th>383034</th>\n",
       "      <td>187838</td>\n",
       "      <td>Non ci sono parole per ringraziare i nostri me...</td>\n",
       "      <td>Penso allo sconforto di chi ha perso un genito...</td>\n",
       "      <td>1</td>\n",
       "    </tr>\n",
       "  </tbody>\n",
       "</table>\n",
       "<p>2400 rows × 4 columns</p>\n",
       "</div>"
      ],
      "text/plain": [
       "            Id                                         Sentence_1  \\\n",
       "20507     3511            È questo «in nome del popolo italiano»?   \n",
       "472138  443194  Non guardiamo a soluzioni come l'erezione di m...   \n",
       "489217  438394  La popolazione carceraria è scesa a 52.164 e s...   \n",
       "66331   313751  Mi fermo perché non voglio offendere nessuno, ...   \n",
       "377643  488165  La prima riunione europea dei Ministri della s...   \n",
       "...        ...                                                ...   \n",
       "111820   35231  Non è un caso che il Governo e la maggioranza ...   \n",
       "387157  300044  Anzi, svolse sempre con passione e consapevole...   \n",
       "230240   74207  È chiaro che una catastrofe delle dimensioni d...   \n",
       "470895  390608  Se doveva cadere così in basso, era più dignit...   \n",
       "383034  187838  Non ci sono parole per ringraziare i nostri me...   \n",
       "\n",
       "                                               Sentence_2  Class  \n",
       "20507   Signor Presidente, ho chiesto di intervenire a...      1  \n",
       "472138  Tutto ciò deve necessariamente avvenire attrav...      1  \n",
       "489217  Sei anni fa i detenuti erano 67.971 e 21.494 l...      0  \n",
       "66331                                   Ci ridono dietro!      1  \n",
       "377643  Siamo un grande Paese, che ha svolto un lavoro...      1  \n",
       "...                                                   ...    ...  \n",
       "111820  Ma neanche il testo di mediazione che la Commi...      0  \n",
       "387157  Con lui scompare una figura importante della s...      0  \n",
       "230240  Cito, prima di invitare l'Assemblea all'approv...      1  \n",
       "470895  Un'Assemblea tanto grande quanto debole, i cui...      1  \n",
       "383034  Penso allo sconforto di chi ha perso un genito...      1  \n",
       "\n",
       "[2400 rows x 4 columns]"
      ]
     },
     "execution_count": 63,
     "metadata": {},
     "output_type": "execute_result"
    }
   ],
   "source": [
    "df_dist_5_with_ids_ridotto_test"
   ]
  },
  {
   "cell_type": "code",
   "execution_count": null,
   "id": "7a8b6504",
   "metadata": {},
   "outputs": [],
   "source": []
  }
 ],
 "metadata": {
  "kernelspec": {
   "display_name": "Python 3 (ipykernel)",
   "language": "python",
   "name": "python3"
  },
  "language_info": {
   "codemirror_mode": {
    "name": "ipython",
    "version": 3
   },
   "file_extension": ".py",
   "mimetype": "text/x-python",
   "name": "python",
   "nbconvert_exporter": "python",
   "pygments_lexer": "ipython3",
   "version": "3.8.12"
  }
 },
 "nbformat": 4,
 "nbformat_minor": 5
}
