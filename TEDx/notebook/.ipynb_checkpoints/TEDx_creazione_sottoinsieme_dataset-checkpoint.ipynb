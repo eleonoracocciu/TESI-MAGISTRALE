{
 "cells": [
  {
   "cell_type": "code",
   "execution_count": 1,
   "id": "90b859c4",
   "metadata": {},
   "outputs": [],
   "source": [
    "import random\n",
    "from random import sample\n",
    "import pandas as pd\n",
    "from sklearn.model_selection import train_test_split"
   ]
  },
  {
   "cell_type": "code",
   "execution_count": 2,
   "id": "0db840f4",
   "metadata": {},
   "outputs": [],
   "source": [
    "path_dataset = \"../dataset/\"\n",
    "path_train_test = \"../dataset/train_test/\""
   ]
  },
  {
   "cell_type": "code",
   "execution_count": 3,
   "id": "0765f252",
   "metadata": {},
   "outputs": [],
   "source": [
    "def get_value_counts_of_classes(df, df_name):\n",
    "    \n",
    "    print(df_name.title())\n",
    "    print()\n",
    "    print(\"Classes\")\n",
    "    print(df['Class'].value_counts())"
   ]
  },
  {
   "cell_type": "code",
   "execution_count": 4,
   "id": "cbf8c407",
   "metadata": {},
   "outputs": [],
   "source": [
    "def crea_dataset_ridotto(df):\n",
    "    \n",
    "    \"\"\"Prendo 6000 esempi positivi e 6000 negativi, in modo da avere un dataset totale di 12000 frasi\"\"\"\n",
    "    \n",
    "    #lista_id da cui estrarre un campione di frasi non consecutive --> la frase 2 non segue la frase 1 --> Classe 1\n",
    "    frasi_non_consecutive = list(df[df['Class'] == 1]['Id'])\n",
    "    \n",
    "    #lista_id da cui estrarre un campione di frasi consecutive --> la frase 2 segue la frase 1 --> Classe 0\n",
    "    frasi_consecutive = list(df[df['Class'] == 0]['Id'])\n",
    "    \n",
    "    #campione di frasi non consecutive\n",
    "    sample_frasi_non_consecutive = sample(frasi_non_consecutive, 6000)\n",
    "    \n",
    "    #campione di frasi consecutive\n",
    "    sample_frasi_consecutive = sample(frasi_consecutive, 6000)\n",
    "    \n",
    "    #creo il dataset di frasi non consecutive\n",
    "    df_frasi_non_consecutive = df[df.Id.isin(sample_frasi_non_consecutive)]\n",
    "    \n",
    "    #creo il dataset di frasi consecutive\n",
    "    df_frasi_consecutive = df[df.Id.isin(sample_frasi_consecutive)]\n",
    "    \n",
    "    print(\"Controlliamo che ci siano soltanto esempi positivi e negativi nei rispettivi dataset\")\n",
    "    print(\"Dataset frasi non consecutive\")\n",
    "    print(\"Class\")\n",
    "    print(df_frasi_non_consecutive['Class'].value_counts())\n",
    "    print()\n",
    "    print(\"Dataset frasi consecutive\")\n",
    "    print(\"Class\")\n",
    "    print(df_frasi_consecutive['Class'].value_counts())\n",
    "    \n",
    "    #concateniamo i due dataset in modo da avere il dataset completo, non considerando gli indici,\n",
    "    #in modo da mantenere comunque indici diversi fra i diversi eventi\n",
    "    df_ridotto_finale = pd.concat([df_frasi_non_consecutive, df_frasi_consecutive], verify_integrity=True)\n",
    "    \n",
    "    print()\n",
    "    print(\"Informazioni sulle classi del dataset ridotto\")\n",
    "    print(df_ridotto_finale['Class'].value_counts())\n",
    "    \n",
    "    return df_ridotto_finale"
   ]
  },
  {
   "cell_type": "code",
   "execution_count": 5,
   "id": "0ddeb6cb",
   "metadata": {},
   "outputs": [],
   "source": [
    "def save_dataframe(file_name, dataframe_to_save, path):\n",
    "    \n",
    "    try:\n",
    "        dataframe_to_save.to_csv(path+file_name+\".csv\", index = False, sep = \"\\t\")\n",
    "        print(\"File salvato correttamente\")\n",
    "        \n",
    "    except:\n",
    "        print(\"Errore nel salvataggio\")\n",
    "    \n",
    "    return "
   ]
  },
  {
   "cell_type": "markdown",
   "id": "d29ca3de",
   "metadata": {},
   "source": [
    "# Dataset originali"
   ]
  },
  {
   "cell_type": "code",
   "execution_count": 6,
   "id": "3b08d7af",
   "metadata": {},
   "outputs": [],
   "source": [
    "df_dist_5_with_ids = pd.read_csv(\"../dataset/df_TEDx_dist_5_with_ids.csv\", sep = \"\\t\")"
   ]
  },
  {
   "cell_type": "code",
   "execution_count": 7,
   "id": "5b6ce113",
   "metadata": {},
   "outputs": [],
   "source": [
    "df_dist_10_with_ids = pd.read_csv(\"../dataset/df_TEDx_dist_10_with_ids.csv\", sep = \"\\t\")"
   ]
  },
  {
   "cell_type": "code",
   "execution_count": 8,
   "id": "a381a791",
   "metadata": {},
   "outputs": [],
   "source": [
    "df_dist_20_with_ids = pd.read_csv(\"../dataset/df_TEDx_dist_20_with_ids.csv\", sep = \"\\t\")"
   ]
  },
  {
   "cell_type": "code",
   "execution_count": 9,
   "id": "e42366ad",
   "metadata": {},
   "outputs": [],
   "source": [
    "df_dist_30_with_ids = pd.read_csv(\"../dataset/df_TEDx_dist_30_with_ids.csv\", sep = \"\\t\")"
   ]
  },
  {
   "cell_type": "code",
   "execution_count": 10,
   "id": "57d79e91",
   "metadata": {},
   "outputs": [
    {
     "data": {
      "text/html": [
       "<div>\n",
       "<style scoped>\n",
       "    .dataframe tbody tr th:only-of-type {\n",
       "        vertical-align: middle;\n",
       "    }\n",
       "\n",
       "    .dataframe tbody tr th {\n",
       "        vertical-align: top;\n",
       "    }\n",
       "\n",
       "    .dataframe thead th {\n",
       "        text-align: right;\n",
       "    }\n",
       "</style>\n",
       "<table border=\"1\" class=\"dataframe\">\n",
       "  <thead>\n",
       "    <tr style=\"text-align: right;\">\n",
       "      <th></th>\n",
       "      <th>Id</th>\n",
       "      <th>Sentence_1</th>\n",
       "      <th>Sentence_2</th>\n",
       "      <th>Class</th>\n",
       "    </tr>\n",
       "  </thead>\n",
       "  <tbody>\n",
       "    <tr>\n",
       "      <th>0</th>\n",
       "      <td>83300</td>\n",
       "      <td>Quante volte sentite quello dall'altra parte c...</td>\n",
       "      <td>Non devi calpestare B per andare da A a C.</td>\n",
       "      <td>1</td>\n",
       "    </tr>\n",
       "    <tr>\n",
       "      <th>1</th>\n",
       "      <td>83146</td>\n",
       "      <td>Le forbici molecolari hanno tagliato la doppia...</td>\n",
       "      <td>Tant'è che un RNA guida costa poche decine di ...</td>\n",
       "      <td>1</td>\n",
       "    </tr>\n",
       "    <tr>\n",
       "      <th>2</th>\n",
       "      <td>23967</td>\n",
       "      <td>È semplicissimo.</td>\n",
       "      <td>Abbiamo fatto il taglio.</td>\n",
       "      <td>1</td>\n",
       "    </tr>\n",
       "    <tr>\n",
       "      <th>3</th>\n",
       "      <td>138269</td>\n",
       "      <td>Dovremmo semplicemente cambiare la sequenza de...</td>\n",
       "      <td>E chi ricuce?</td>\n",
       "      <td>1</td>\n",
       "    </tr>\n",
       "    <tr>\n",
       "      <th>4</th>\n",
       "      <td>179316</td>\n",
       "      <td>È semplice da disegnare e poi è anche material...</td>\n",
       "      <td>Ci sono vari meccanismi che la cellula utilizz...</td>\n",
       "      <td>1</td>\n",
       "    </tr>\n",
       "    <tr>\n",
       "      <th>...</th>\n",
       "      <td>...</td>\n",
       "      <td>...</td>\n",
       "      <td>...</td>\n",
       "      <td>...</td>\n",
       "    </tr>\n",
       "    <tr>\n",
       "      <th>100173</th>\n",
       "      <td>50147</td>\n",
       "      <td>Avevo incontrato un muro, ci avevo sbattuto co...</td>\n",
       "      <td>Diagnosi di glomerulonefrite cronica da immuno...</td>\n",
       "      <td>0</td>\n",
       "    </tr>\n",
       "    <tr>\n",
       "      <th>100174</th>\n",
       "      <td>181833</td>\n",
       "      <td>In teatro, se non ci sei, se non fai quello ch...</td>\n",
       "      <td>In carcere potrebbero fartela pagare, ma nel f...</td>\n",
       "      <td>0</td>\n",
       "    </tr>\n",
       "    <tr>\n",
       "      <th>100175</th>\n",
       "      <td>44121</td>\n",
       "      <td>In carcere potrebbero fartela pagare, ma nel f...</td>\n",
       "      <td>Se il tuo compagno dietro le quinte non si ric...</td>\n",
       "      <td>0</td>\n",
       "    </tr>\n",
       "    <tr>\n",
       "      <th>100176</th>\n",
       "      <td>34673</td>\n",
       "      <td>Era come se tutto si fosse fermato.</td>\n",
       "      <td>Avevo incontrato un muro, ci avevo sbattuto co...</td>\n",
       "      <td>0</td>\n",
       "    </tr>\n",
       "    <tr>\n",
       "      <th>100177</th>\n",
       "      <td>14718</td>\n",
       "      <td>C'è una cosa che io faccio sempre, quando pren...</td>\n",
       "      <td>All'atterraggio e al decollo io guardo fuori d...</td>\n",
       "      <td>0</td>\n",
       "    </tr>\n",
       "  </tbody>\n",
       "</table>\n",
       "<p>100178 rows × 4 columns</p>\n",
       "</div>"
      ],
      "text/plain": [
       "            Id                                         Sentence_1  \\\n",
       "0        83300  Quante volte sentite quello dall'altra parte c...   \n",
       "1        83146  Le forbici molecolari hanno tagliato la doppia...   \n",
       "2        23967                                   È semplicissimo.   \n",
       "3       138269  Dovremmo semplicemente cambiare la sequenza de...   \n",
       "4       179316  È semplice da disegnare e poi è anche material...   \n",
       "...        ...                                                ...   \n",
       "100173   50147  Avevo incontrato un muro, ci avevo sbattuto co...   \n",
       "100174  181833  In teatro, se non ci sei, se non fai quello ch...   \n",
       "100175   44121  In carcere potrebbero fartela pagare, ma nel f...   \n",
       "100176   34673                Era come se tutto si fosse fermato.   \n",
       "100177   14718  C'è una cosa che io faccio sempre, quando pren...   \n",
       "\n",
       "                                               Sentence_2  Class  \n",
       "0              Non devi calpestare B per andare da A a C.      1  \n",
       "1       Tant'è che un RNA guida costa poche decine di ...      1  \n",
       "2                                Abbiamo fatto il taglio.      1  \n",
       "3                                           E chi ricuce?      1  \n",
       "4       Ci sono vari meccanismi che la cellula utilizz...      1  \n",
       "...                                                   ...    ...  \n",
       "100173  Diagnosi di glomerulonefrite cronica da immuno...      0  \n",
       "100174  In carcere potrebbero fartela pagare, ma nel f...      0  \n",
       "100175  Se il tuo compagno dietro le quinte non si ric...      0  \n",
       "100176  Avevo incontrato un muro, ci avevo sbattuto co...      0  \n",
       "100177  All'atterraggio e al decollo io guardo fuori d...      0  \n",
       "\n",
       "[100178 rows x 4 columns]"
      ]
     },
     "execution_count": 10,
     "metadata": {},
     "output_type": "execute_result"
    }
   ],
   "source": [
    "df_dist_5_with_ids"
   ]
  },
  {
   "cell_type": "code",
   "execution_count": 11,
   "id": "92583298",
   "metadata": {},
   "outputs": [
    {
     "name": "stdout",
     "output_type": "stream",
     "text": [
      "Df_Dist_5_With_Ids\n",
      "\n",
      "Classes\n",
      "1    50089\n",
      "0    50089\n",
      "Name: Class, dtype: int64\n"
     ]
    }
   ],
   "source": [
    "get_value_counts_of_classes(df_dist_5_with_ids, 'df_dist_5_with_ids')"
   ]
  },
  {
   "cell_type": "code",
   "execution_count": 12,
   "id": "6ba20943",
   "metadata": {},
   "outputs": [
    {
     "name": "stdout",
     "output_type": "stream",
     "text": [
      "Df_Dist_10_With_Ids\n",
      "\n",
      "Classes\n",
      "1    50084\n",
      "0    50084\n",
      "Name: Class, dtype: int64\n"
     ]
    }
   ],
   "source": [
    "get_value_counts_of_classes(df_dist_10_with_ids, 'df_dist_10_with_ids')"
   ]
  },
  {
   "cell_type": "code",
   "execution_count": 13,
   "id": "d8483cbb",
   "metadata": {},
   "outputs": [
    {
     "name": "stdout",
     "output_type": "stream",
     "text": [
      "Df_Dist_20_With_Ids\n",
      "\n",
      "Classes\n",
      "1    50074\n",
      "0    50074\n",
      "Name: Class, dtype: int64\n"
     ]
    }
   ],
   "source": [
    "get_value_counts_of_classes(df_dist_20_with_ids, 'df_dist_20_with_ids')"
   ]
  },
  {
   "cell_type": "code",
   "execution_count": 14,
   "id": "3ca7ab1f",
   "metadata": {},
   "outputs": [
    {
     "name": "stdout",
     "output_type": "stream",
     "text": [
      "Df_Dist_30_With_Ids\n",
      "\n",
      "Classes\n",
      "1    50064\n",
      "0    50064\n",
      "Name: Class, dtype: int64\n"
     ]
    }
   ],
   "source": [
    "get_value_counts_of_classes(df_dist_30_with_ids, 'df_dist_30_with_ids')"
   ]
  },
  {
   "cell_type": "markdown",
   "id": "a59db781",
   "metadata": {},
   "source": [
    "# Creazione dataset ridotti"
   ]
  },
  {
   "cell_type": "code",
   "execution_count": 15,
   "id": "32116767",
   "metadata": {},
   "outputs": [
    {
     "name": "stdout",
     "output_type": "stream",
     "text": [
      "Controlliamo che ci siano soltanto esempi positivi e negativi nei rispettivi dataset\n",
      "Dataset frasi non consecutive\n",
      "Class\n",
      "1    6000\n",
      "Name: Class, dtype: int64\n",
      "\n",
      "Dataset frasi consecutive\n",
      "Class\n",
      "0    6000\n",
      "Name: Class, dtype: int64\n",
      "\n",
      "Informazioni sulle classi del dataset ridotto\n",
      "1    6000\n",
      "0    6000\n",
      "Name: Class, dtype: int64\n"
     ]
    }
   ],
   "source": [
    "df_dist_5_with_ids_ridotto = crea_dataset_ridotto(df_dist_5_with_ids)"
   ]
  },
  {
   "cell_type": "code",
   "execution_count": 16,
   "id": "e3525c69",
   "metadata": {},
   "outputs": [
    {
     "name": "stdout",
     "output_type": "stream",
     "text": [
      "Controlliamo che ci siano soltanto esempi positivi e negativi nei rispettivi dataset\n",
      "Dataset frasi non consecutive\n",
      "Class\n",
      "1    6000\n",
      "Name: Class, dtype: int64\n",
      "\n",
      "Dataset frasi consecutive\n",
      "Class\n",
      "0    6000\n",
      "Name: Class, dtype: int64\n",
      "\n",
      "Informazioni sulle classi del dataset ridotto\n",
      "1    6000\n",
      "0    6000\n",
      "Name: Class, dtype: int64\n"
     ]
    }
   ],
   "source": [
    "df_dist_10_with_ids_ridotto = crea_dataset_ridotto(df_dist_10_with_ids)"
   ]
  },
  {
   "cell_type": "code",
   "execution_count": 17,
   "id": "3d6a8331",
   "metadata": {},
   "outputs": [
    {
     "name": "stdout",
     "output_type": "stream",
     "text": [
      "Controlliamo che ci siano soltanto esempi positivi e negativi nei rispettivi dataset\n",
      "Dataset frasi non consecutive\n",
      "Class\n",
      "1    6000\n",
      "Name: Class, dtype: int64\n",
      "\n",
      "Dataset frasi consecutive\n",
      "Class\n",
      "0    6000\n",
      "Name: Class, dtype: int64\n",
      "\n",
      "Informazioni sulle classi del dataset ridotto\n",
      "1    6000\n",
      "0    6000\n",
      "Name: Class, dtype: int64\n"
     ]
    }
   ],
   "source": [
    "df_dist_20_with_ids_ridotto = crea_dataset_ridotto(df_dist_20_with_ids)"
   ]
  },
  {
   "cell_type": "code",
   "execution_count": 18,
   "id": "c230d394",
   "metadata": {},
   "outputs": [
    {
     "name": "stdout",
     "output_type": "stream",
     "text": [
      "Controlliamo che ci siano soltanto esempi positivi e negativi nei rispettivi dataset\n",
      "Dataset frasi non consecutive\n",
      "Class\n",
      "1    6000\n",
      "Name: Class, dtype: int64\n",
      "\n",
      "Dataset frasi consecutive\n",
      "Class\n",
      "0    6000\n",
      "Name: Class, dtype: int64\n",
      "\n",
      "Informazioni sulle classi del dataset ridotto\n",
      "1    6000\n",
      "0    6000\n",
      "Name: Class, dtype: int64\n"
     ]
    }
   ],
   "source": [
    "df_dist_30_with_ids_ridotto = crea_dataset_ridotto(df_dist_30_with_ids)"
   ]
  },
  {
   "cell_type": "code",
   "execution_count": null,
   "id": "a2cdcce7",
   "metadata": {},
   "outputs": [],
   "source": []
  },
  {
   "cell_type": "code",
   "execution_count": 19,
   "id": "a225e3b3",
   "metadata": {},
   "outputs": [
    {
     "data": {
      "text/html": [
       "<div>\n",
       "<style scoped>\n",
       "    .dataframe tbody tr th:only-of-type {\n",
       "        vertical-align: middle;\n",
       "    }\n",
       "\n",
       "    .dataframe tbody tr th {\n",
       "        vertical-align: top;\n",
       "    }\n",
       "\n",
       "    .dataframe thead th {\n",
       "        text-align: right;\n",
       "    }\n",
       "</style>\n",
       "<table border=\"1\" class=\"dataframe\">\n",
       "  <thead>\n",
       "    <tr style=\"text-align: right;\">\n",
       "      <th></th>\n",
       "      <th>Id</th>\n",
       "      <th>Sentence_1</th>\n",
       "      <th>Sentence_2</th>\n",
       "      <th>Class</th>\n",
       "    </tr>\n",
       "  </thead>\n",
       "  <tbody>\n",
       "    <tr>\n",
       "      <th>7</th>\n",
       "      <td>155542</td>\n",
       "      <td>Abbiamo fatto il taglio.</td>\n",
       "      <td>Questo DNA \"toppa\" può essere fornito da noi, ...</td>\n",
       "      <td>1</td>\n",
       "    </tr>\n",
       "    <tr>\n",
       "      <th>18</th>\n",
       "      <td>113574</td>\n",
       "      <td>Per esempio, è la sequenza di un gene sano mes...</td>\n",
       "      <td>Stanno cercando di renderlo ancora più preciso...</td>\n",
       "      <td>1</td>\n",
       "    </tr>\n",
       "    <tr>\n",
       "      <th>27</th>\n",
       "      <td>136855</td>\n",
       "      <td>E come si fa?</td>\n",
       "      <td>Uno dei pionieri del delivery è un italiano, L...</td>\n",
       "      <td>1</td>\n",
       "    </tr>\n",
       "    <tr>\n",
       "      <th>33</th>\n",
       "      <td>189953</td>\n",
       "      <td>Quindi, iniziamo a riflettere sulle differenti...</td>\n",
       "      <td>Pensate, ad esempio, di voler confrontare tra ...</td>\n",
       "      <td>1</td>\n",
       "    </tr>\n",
       "    <tr>\n",
       "      <th>39</th>\n",
       "      <td>26761</td>\n",
       "      <td>La prima componente fondamentale è Cas9.</td>\n",
       "      <td>È come dire che è un manuale di istruzioni da ...</td>\n",
       "      <td>1</td>\n",
       "    </tr>\n",
       "    <tr>\n",
       "      <th>...</th>\n",
       "      <td>...</td>\n",
       "      <td>...</td>\n",
       "      <td>...</td>\n",
       "      <td>...</td>\n",
       "    </tr>\n",
       "    <tr>\n",
       "      <th>100116</th>\n",
       "      <td>146563</td>\n",
       "      <td>Ricominciai a immaginare, a sognare, e mi face...</td>\n",
       "      <td>Avevo capito che esistevano dei lati di me ste...</td>\n",
       "      <td>0</td>\n",
       "    </tr>\n",
       "    <tr>\n",
       "      <th>100131</th>\n",
       "      <td>158091</td>\n",
       "      <td>Si fa tantissimo parlare in ambito pedagogico ...</td>\n",
       "      <td>Voi immaginate che il teatro, il carcere - anc...</td>\n",
       "      <td>0</td>\n",
       "    </tr>\n",
       "    <tr>\n",
       "      <th>100141</th>\n",
       "      <td>173818</td>\n",
       "      <td>\"Come facciamo a chiedergli di mantenersi nel ...</td>\n",
       "      <td>\"Come possiamo chiedere a qualcuno di mantener...</td>\n",
       "      <td>0</td>\n",
       "    </tr>\n",
       "    <tr>\n",
       "      <th>100159</th>\n",
       "      <td>19649</td>\n",
       "      <td>Lavoro anche fisico proprio in termini di sudo...</td>\n",
       "      <td>Ecco, molti degli attori detenuti, con cui lav...</td>\n",
       "      <td>0</td>\n",
       "    </tr>\n",
       "    <tr>\n",
       "      <th>100172</th>\n",
       "      <td>68487</td>\n",
       "      <td>Un altro degli strumenti che da il teatro è qu...</td>\n",
       "      <td>In teatro, se non ci sei, se non fai quello ch...</td>\n",
       "      <td>0</td>\n",
       "    </tr>\n",
       "  </tbody>\n",
       "</table>\n",
       "<p>12000 rows × 4 columns</p>\n",
       "</div>"
      ],
      "text/plain": [
       "            Id                                         Sentence_1  \\\n",
       "7       155542                           Abbiamo fatto il taglio.   \n",
       "18      113574  Per esempio, è la sequenza di un gene sano mes...   \n",
       "27      136855                                      E come si fa?   \n",
       "33      189953  Quindi, iniziamo a riflettere sulle differenti...   \n",
       "39       26761           La prima componente fondamentale è Cas9.   \n",
       "...        ...                                                ...   \n",
       "100116  146563  Ricominciai a immaginare, a sognare, e mi face...   \n",
       "100131  158091  Si fa tantissimo parlare in ambito pedagogico ...   \n",
       "100141  173818  \"Come facciamo a chiedergli di mantenersi nel ...   \n",
       "100159   19649  Lavoro anche fisico proprio in termini di sudo...   \n",
       "100172   68487  Un altro degli strumenti che da il teatro è qu...   \n",
       "\n",
       "                                               Sentence_2  Class  \n",
       "7       Questo DNA \"toppa\" può essere fornito da noi, ...      1  \n",
       "18      Stanno cercando di renderlo ancora più preciso...      1  \n",
       "27      Uno dei pionieri del delivery è un italiano, L...      1  \n",
       "33      Pensate, ad esempio, di voler confrontare tra ...      1  \n",
       "39      È come dire che è un manuale di istruzioni da ...      1  \n",
       "...                                                   ...    ...  \n",
       "100116  Avevo capito che esistevano dei lati di me ste...      0  \n",
       "100131  Voi immaginate che il teatro, il carcere - anc...      0  \n",
       "100141  \"Come possiamo chiedere a qualcuno di mantener...      0  \n",
       "100159  Ecco, molti degli attori detenuti, con cui lav...      0  \n",
       "100172  In teatro, se non ci sei, se non fai quello ch...      0  \n",
       "\n",
       "[12000 rows x 4 columns]"
      ]
     },
     "execution_count": 19,
     "metadata": {},
     "output_type": "execute_result"
    }
   ],
   "source": [
    "df_dist_5_with_ids_ridotto"
   ]
  },
  {
   "cell_type": "code",
   "execution_count": 20,
   "id": "7b0466e8",
   "metadata": {},
   "outputs": [
    {
     "data": {
      "text/html": [
       "<div>\n",
       "<style scoped>\n",
       "    .dataframe tbody tr th:only-of-type {\n",
       "        vertical-align: middle;\n",
       "    }\n",
       "\n",
       "    .dataframe tbody tr th {\n",
       "        vertical-align: top;\n",
       "    }\n",
       "\n",
       "    .dataframe thead th {\n",
       "        text-align: right;\n",
       "    }\n",
       "</style>\n",
       "<table border=\"1\" class=\"dataframe\">\n",
       "  <thead>\n",
       "    <tr style=\"text-align: right;\">\n",
       "      <th></th>\n",
       "      <th>Id</th>\n",
       "      <th>Sentence_1</th>\n",
       "      <th>Sentence_2</th>\n",
       "      <th>Class</th>\n",
       "    </tr>\n",
       "  </thead>\n",
       "  <tbody>\n",
       "    <tr>\n",
       "      <th>5</th>\n",
       "      <td>150894</td>\n",
       "      <td>Qual è il disagio che potrebbero avvertire i n...</td>\n",
       "      <td>Nello spazio, noi facciamo fatica a raggiunger...</td>\n",
       "      <td>1</td>\n",
       "    </tr>\n",
       "    <tr>\n",
       "      <th>8</th>\n",
       "      <td>85573</td>\n",
       "      <td>Se li accetti, ci vivi.</td>\n",
       "      <td>E nel tempo?</td>\n",
       "      <td>1</td>\n",
       "    </tr>\n",
       "    <tr>\n",
       "      <th>12</th>\n",
       "      <td>149518</td>\n",
       "      <td>Eh beh, che da lassù, tra le lamiere spezzate ...</td>\n",
       "      <td>Ha prevalso la legge, per fortuna.</td>\n",
       "      <td>1</td>\n",
       "    </tr>\n",
       "    <tr>\n",
       "      <th>23</th>\n",
       "      <td>47410</td>\n",
       "      <td>E nel tempo?</td>\n",
       "      <td>Vi ho parlato come se fossi un padre, sono il ...</td>\n",
       "      <td>1</td>\n",
       "    </tr>\n",
       "    <tr>\n",
       "      <th>25</th>\n",
       "      <td>132926</td>\n",
       "      <td>Nel tempo è la stessa cosa.</td>\n",
       "      <td>Ho cinquantaquattro anni, dico.</td>\n",
       "      <td>1</td>\n",
       "    </tr>\n",
       "    <tr>\n",
       "      <th>...</th>\n",
       "      <td>...</td>\n",
       "      <td>...</td>\n",
       "      <td>...</td>\n",
       "      <td>...</td>\n",
       "    </tr>\n",
       "    <tr>\n",
       "      <th>100095</th>\n",
       "      <td>103092</td>\n",
       "      <td>Macchine autonome che ridurranno drasticamente...</td>\n",
       "      <td>Ma la vera rivoluzione in questo campo è la ro...</td>\n",
       "      <td>0</td>\n",
       "    </tr>\n",
       "    <tr>\n",
       "      <th>100127</th>\n",
       "      <td>54411</td>\n",
       "      <td>E come sempre avviene nel rugby c'è anche il t...</td>\n",
       "      <td>A Bologna è possibile confrontarsi tra culture...</td>\n",
       "      <td>0</td>\n",
       "    </tr>\n",
       "    <tr>\n",
       "      <th>100144</th>\n",
       "      <td>51558</td>\n",
       "      <td>Molte sono le sfide che ancora ci attendono e ...</td>\n",
       "      <td>Ma la vera sfida è quella di capire quali sono...</td>\n",
       "      <td>0</td>\n",
       "    </tr>\n",
       "    <tr>\n",
       "      <th>100148</th>\n",
       "      <td>88648</td>\n",
       "      <td>Ma la scienza ha anche un altro ruolo fondamen...</td>\n",
       "      <td>Perché un cittadino che non ha nulla a che far...</td>\n",
       "      <td>0</td>\n",
       "    </tr>\n",
       "    <tr>\n",
       "      <th>100149</th>\n",
       "      <td>66843</td>\n",
       "      <td>Perché un cittadino che non ha nulla a che far...</td>\n",
       "      <td>Voltaire diceva che la dignità di un Paese, la...</td>\n",
       "      <td>0</td>\n",
       "    </tr>\n",
       "  </tbody>\n",
       "</table>\n",
       "<p>12000 rows × 4 columns</p>\n",
       "</div>"
      ],
      "text/plain": [
       "            Id                                         Sentence_1  \\\n",
       "5       150894  Qual è il disagio che potrebbero avvertire i n...   \n",
       "8        85573                            Se li accetti, ci vivi.   \n",
       "12      149518  Eh beh, che da lassù, tra le lamiere spezzate ...   \n",
       "23       47410                                       E nel tempo?   \n",
       "25      132926                        Nel tempo è la stessa cosa.   \n",
       "...        ...                                                ...   \n",
       "100095  103092  Macchine autonome che ridurranno drasticamente...   \n",
       "100127   54411  E come sempre avviene nel rugby c'è anche il t...   \n",
       "100144   51558  Molte sono le sfide che ancora ci attendono e ...   \n",
       "100148   88648  Ma la scienza ha anche un altro ruolo fondamen...   \n",
       "100149   66843  Perché un cittadino che non ha nulla a che far...   \n",
       "\n",
       "                                               Sentence_2  Class  \n",
       "5       Nello spazio, noi facciamo fatica a raggiunger...      1  \n",
       "8                                            E nel tempo?      1  \n",
       "12                     Ha prevalso la legge, per fortuna.      1  \n",
       "23      Vi ho parlato come se fossi un padre, sono il ...      1  \n",
       "25                        Ho cinquantaquattro anni, dico.      1  \n",
       "...                                                   ...    ...  \n",
       "100095  Ma la vera rivoluzione in questo campo è la ro...      0  \n",
       "100127  A Bologna è possibile confrontarsi tra culture...      0  \n",
       "100144  Ma la vera sfida è quella di capire quali sono...      0  \n",
       "100148  Perché un cittadino che non ha nulla a che far...      0  \n",
       "100149  Voltaire diceva che la dignità di un Paese, la...      0  \n",
       "\n",
       "[12000 rows x 4 columns]"
      ]
     },
     "execution_count": 20,
     "metadata": {},
     "output_type": "execute_result"
    }
   ],
   "source": [
    "df_dist_10_with_ids_ridotto"
   ]
  },
  {
   "cell_type": "code",
   "execution_count": 21,
   "id": "4eb51a50",
   "metadata": {},
   "outputs": [
    {
     "data": {
      "text/html": [
       "<div>\n",
       "<style scoped>\n",
       "    .dataframe tbody tr th:only-of-type {\n",
       "        vertical-align: middle;\n",
       "    }\n",
       "\n",
       "    .dataframe tbody tr th {\n",
       "        vertical-align: top;\n",
       "    }\n",
       "\n",
       "    .dataframe thead th {\n",
       "        text-align: right;\n",
       "    }\n",
       "</style>\n",
       "<table border=\"1\" class=\"dataframe\">\n",
       "  <thead>\n",
       "    <tr style=\"text-align: right;\">\n",
       "      <th></th>\n",
       "      <th>Id</th>\n",
       "      <th>Sentence_1</th>\n",
       "      <th>Sentence_2</th>\n",
       "      <th>Class</th>\n",
       "    </tr>\n",
       "  </thead>\n",
       "  <tbody>\n",
       "    <tr>\n",
       "      <th>2</th>\n",
       "      <td>142153</td>\n",
       "      <td>\"Wahaha\" La vita è una questione di scelte, e ...</td>\n",
       "      <td>Il venditore afgano ha visto esploder gambe An...</td>\n",
       "      <td>1</td>\n",
       "    </tr>\n",
       "    <tr>\n",
       "      <th>18</th>\n",
       "      <td>75257</td>\n",
       "      <td>Dei Nomadi Tuareg potei sperimentare la tenere...</td>\n",
       "      <td>Ciascuna davanti ad un dromedario, stracarico ...</td>\n",
       "      <td>1</td>\n",
       "    </tr>\n",
       "    <tr>\n",
       "      <th>20</th>\n",
       "      <td>34540</td>\n",
       "      <td>E imparai il silenzio, quello della notte e qu...</td>\n",
       "      <td>Erano i Nomadi Rabari che camminavano lungo la...</td>\n",
       "      <td>1</td>\n",
       "    </tr>\n",
       "    <tr>\n",
       "      <th>31</th>\n",
       "      <td>46792</td>\n",
       "      <td>Hai scelto bene tutte le volte che metti a dis...</td>\n",
       "      <td>Per Mario ho i calzini di \"Fight the Stroke\" p...</td>\n",
       "      <td>1</td>\n",
       "    </tr>\n",
       "    <tr>\n",
       "      <th>38</th>\n",
       "      <td>143469</td>\n",
       "      <td>Quali sono le scelte migliori?</td>\n",
       "      <td>Siamo degli storyteller e amiamo raccontare st...</td>\n",
       "      <td>1</td>\n",
       "    </tr>\n",
       "    <tr>\n",
       "      <th>...</th>\n",
       "      <td>...</td>\n",
       "      <td>...</td>\n",
       "      <td>...</td>\n",
       "      <td>...</td>\n",
       "    </tr>\n",
       "    <tr>\n",
       "      <th>100070</th>\n",
       "      <td>71085</td>\n",
       "      <td>Curiosità, passione e scoperta dell'ignoto rap...</td>\n",
       "      <td>Lo scienziato è infatti colui che osserva il m...</td>\n",
       "      <td>0</td>\n",
       "    </tr>\n",
       "    <tr>\n",
       "      <th>100078</th>\n",
       "      <td>160880</td>\n",
       "      <td>I robot saranno nelle nostre case, ci aiuteran...</td>\n",
       "      <td>Macchine autonome che ridurranno drasticamente...</td>\n",
       "      <td>0</td>\n",
       "    </tr>\n",
       "    <tr>\n",
       "      <th>100093</th>\n",
       "      <td>51242</td>\n",
       "      <td>Quello che si fa in carcere non avviene quasi ...</td>\n",
       "      <td>Questa serra nasce grazie alla collaborazione ...</td>\n",
       "      <td>0</td>\n",
       "    </tr>\n",
       "    <tr>\n",
       "      <th>100111</th>\n",
       "      <td>74732</td>\n",
       "      <td>E come sempre avviene nel rugby c'è anche il t...</td>\n",
       "      <td>A Bologna è possibile confrontarsi tra culture...</td>\n",
       "      <td>0</td>\n",
       "    </tr>\n",
       "    <tr>\n",
       "      <th>100121</th>\n",
       "      <td>38545</td>\n",
       "      <td>Ma a cosa serve il plantoide?</td>\n",
       "      <td>A seconda dei sensori che introduciamo nella p...</td>\n",
       "      <td>0</td>\n",
       "    </tr>\n",
       "  </tbody>\n",
       "</table>\n",
       "<p>12000 rows × 4 columns</p>\n",
       "</div>"
      ],
      "text/plain": [
       "            Id                                         Sentence_1  \\\n",
       "2       142153  \"Wahaha\" La vita è una questione di scelte, e ...   \n",
       "18       75257  Dei Nomadi Tuareg potei sperimentare la tenere...   \n",
       "20       34540  E imparai il silenzio, quello della notte e qu...   \n",
       "31       46792  Hai scelto bene tutte le volte che metti a dis...   \n",
       "38      143469                     Quali sono le scelte migliori?   \n",
       "...        ...                                                ...   \n",
       "100070   71085  Curiosità, passione e scoperta dell'ignoto rap...   \n",
       "100078  160880  I robot saranno nelle nostre case, ci aiuteran...   \n",
       "100093   51242  Quello che si fa in carcere non avviene quasi ...   \n",
       "100111   74732  E come sempre avviene nel rugby c'è anche il t...   \n",
       "100121   38545                      Ma a cosa serve il plantoide?   \n",
       "\n",
       "                                               Sentence_2  Class  \n",
       "2       Il venditore afgano ha visto esploder gambe An...      1  \n",
       "18      Ciascuna davanti ad un dromedario, stracarico ...      1  \n",
       "20      Erano i Nomadi Rabari che camminavano lungo la...      1  \n",
       "31      Per Mario ho i calzini di \"Fight the Stroke\" p...      1  \n",
       "38      Siamo degli storyteller e amiamo raccontare st...      1  \n",
       "...                                                   ...    ...  \n",
       "100070  Lo scienziato è infatti colui che osserva il m...      0  \n",
       "100078  Macchine autonome che ridurranno drasticamente...      0  \n",
       "100093  Questa serra nasce grazie alla collaborazione ...      0  \n",
       "100111  A Bologna è possibile confrontarsi tra culture...      0  \n",
       "100121  A seconda dei sensori che introduciamo nella p...      0  \n",
       "\n",
       "[12000 rows x 4 columns]"
      ]
     },
     "execution_count": 21,
     "metadata": {},
     "output_type": "execute_result"
    }
   ],
   "source": [
    "df_dist_20_with_ids_ridotto"
   ]
  },
  {
   "cell_type": "code",
   "execution_count": 22,
   "id": "cb498d1b",
   "metadata": {},
   "outputs": [
    {
     "data": {
      "text/html": [
       "<div>\n",
       "<style scoped>\n",
       "    .dataframe tbody tr th:only-of-type {\n",
       "        vertical-align: middle;\n",
       "    }\n",
       "\n",
       "    .dataframe tbody tr th {\n",
       "        vertical-align: top;\n",
       "    }\n",
       "\n",
       "    .dataframe thead th {\n",
       "        text-align: right;\n",
       "    }\n",
       "</style>\n",
       "<table border=\"1\" class=\"dataframe\">\n",
       "  <thead>\n",
       "    <tr style=\"text-align: right;\">\n",
       "      <th></th>\n",
       "      <th>Id</th>\n",
       "      <th>Sentence_1</th>\n",
       "      <th>Sentence_2</th>\n",
       "      <th>Class</th>\n",
       "    </tr>\n",
       "  </thead>\n",
       "  <tbody>\n",
       "    <tr>\n",
       "      <th>1</th>\n",
       "      <td>192268</td>\n",
       "      <td>È una conoscenza un po' differente, dove si ve...</td>\n",
       "      <td>Vedevamo persone soltanto in funzione di aggiu...</td>\n",
       "      <td>1</td>\n",
       "    </tr>\n",
       "    <tr>\n",
       "      <th>26</th>\n",
       "      <td>142854</td>\n",
       "      <td>Attenzione, perché il computer, la velocità, l...</td>\n",
       "      <td>Poi trattate voi l'argomento come riterrete pi...</td>\n",
       "      <td>1</td>\n",
       "    </tr>\n",
       "    <tr>\n",
       "      <th>32</th>\n",
       "      <td>18930</td>\n",
       "      <td>Nave giapponese \"You are destroying our boat\".</td>\n",
       "      <td>Con quali valori potrebbe crescere?</td>\n",
       "      <td>1</td>\n",
       "    </tr>\n",
       "    <tr>\n",
       "      <th>34</th>\n",
       "      <td>22523</td>\n",
       "      <td>Però effettivamente perché, fin dagli albori d...</td>\n",
       "      <td>Ma lo stesso tipo di disagio lo si può rintrac...</td>\n",
       "      <td>1</td>\n",
       "    </tr>\n",
       "    <tr>\n",
       "      <th>39</th>\n",
       "      <td>187828</td>\n",
       "      <td>Quella di scavallare le colonne d'Ercole della...</td>\n",
       "      <td>Perché cosa conferisce valore ad una cosa?</td>\n",
       "      <td>1</td>\n",
       "    </tr>\n",
       "    <tr>\n",
       "      <th>...</th>\n",
       "      <td>...</td>\n",
       "      <td>...</td>\n",
       "      <td>...</td>\n",
       "      <td>...</td>\n",
       "    </tr>\n",
       "    <tr>\n",
       "      <th>100059</th>\n",
       "      <td>155805</td>\n",
       "      <td>Viviamo infatti nell'era dei robot che ad oggi...</td>\n",
       "      <td>Ma quanto siamo davvero lontani da un uso quot...</td>\n",
       "      <td>0</td>\n",
       "    </tr>\n",
       "    <tr>\n",
       "      <th>100068</th>\n",
       "      <td>9764</td>\n",
       "      <td>Quello che noi cerchiamo di fare nel carcere d...</td>\n",
       "      <td>Alcuni di loro questi strumenti non li hanno m...</td>\n",
       "      <td>0</td>\n",
       "    </tr>\n",
       "    <tr>\n",
       "      <th>100072</th>\n",
       "      <td>25245</td>\n",
       "      <td>A Bologna si può anche lavorare.</td>\n",
       "      <td>La FiD è un'azienda meccanica, Fare Impresa in...</td>\n",
       "      <td>0</td>\n",
       "    </tr>\n",
       "    <tr>\n",
       "      <th>100098</th>\n",
       "      <td>137139</td>\n",
       "      <td>Allora quello che possiamo vedere nel mondo ch...</td>\n",
       "      <td>Molte sono le sfide che ancora ci attendono e ...</td>\n",
       "      <td>0</td>\n",
       "    </tr>\n",
       "    <tr>\n",
       "      <th>100101</th>\n",
       "      <td>78308</td>\n",
       "      <td>Il plantoide è anche nella sua apparenza simil...</td>\n",
       "      <td>Quindi ad esempio la ricerca dell'acqua è un t...</td>\n",
       "      <td>0</td>\n",
       "    </tr>\n",
       "  </tbody>\n",
       "</table>\n",
       "<p>12000 rows × 4 columns</p>\n",
       "</div>"
      ],
      "text/plain": [
       "            Id                                         Sentence_1  \\\n",
       "1       192268  È una conoscenza un po' differente, dove si ve...   \n",
       "26      142854  Attenzione, perché il computer, la velocità, l...   \n",
       "32       18930     Nave giapponese \"You are destroying our boat\".   \n",
       "34       22523  Però effettivamente perché, fin dagli albori d...   \n",
       "39      187828  Quella di scavallare le colonne d'Ercole della...   \n",
       "...        ...                                                ...   \n",
       "100059  155805  Viviamo infatti nell'era dei robot che ad oggi...   \n",
       "100068    9764  Quello che noi cerchiamo di fare nel carcere d...   \n",
       "100072   25245                   A Bologna si può anche lavorare.   \n",
       "100098  137139  Allora quello che possiamo vedere nel mondo ch...   \n",
       "100101   78308  Il plantoide è anche nella sua apparenza simil...   \n",
       "\n",
       "                                               Sentence_2  Class  \n",
       "1       Vedevamo persone soltanto in funzione di aggiu...      1  \n",
       "26      Poi trattate voi l'argomento come riterrete pi...      1  \n",
       "32                    Con quali valori potrebbe crescere?      1  \n",
       "34      Ma lo stesso tipo di disagio lo si può rintrac...      1  \n",
       "39             Perché cosa conferisce valore ad una cosa?      1  \n",
       "...                                                   ...    ...  \n",
       "100059  Ma quanto siamo davvero lontani da un uso quot...      0  \n",
       "100068  Alcuni di loro questi strumenti non li hanno m...      0  \n",
       "100072  La FiD è un'azienda meccanica, Fare Impresa in...      0  \n",
       "100098  Molte sono le sfide che ancora ci attendono e ...      0  \n",
       "100101  Quindi ad esempio la ricerca dell'acqua è un t...      0  \n",
       "\n",
       "[12000 rows x 4 columns]"
      ]
     },
     "execution_count": 22,
     "metadata": {},
     "output_type": "execute_result"
    }
   ],
   "source": [
    "df_dist_30_with_ids_ridotto"
   ]
  },
  {
   "cell_type": "code",
   "execution_count": 23,
   "id": "a1720ba9",
   "metadata": {},
   "outputs": [
    {
     "name": "stdout",
     "output_type": "stream",
     "text": [
      "File salvato correttamente\n"
     ]
    }
   ],
   "source": [
    "save_dataframe(\"df_dist_5_with_ids_ridotto\", df_dist_5_with_ids_ridotto, path_dataset)"
   ]
  },
  {
   "cell_type": "code",
   "execution_count": 24,
   "id": "1f6b3848",
   "metadata": {},
   "outputs": [
    {
     "name": "stdout",
     "output_type": "stream",
     "text": [
      "File salvato correttamente\n"
     ]
    }
   ],
   "source": [
    "save_dataframe(\"df_dist_10_with_ids_ridotto\", df_dist_10_with_ids_ridotto, path_dataset)"
   ]
  },
  {
   "cell_type": "code",
   "execution_count": 25,
   "id": "7e55e727",
   "metadata": {},
   "outputs": [
    {
     "name": "stdout",
     "output_type": "stream",
     "text": [
      "File salvato correttamente\n"
     ]
    }
   ],
   "source": [
    "save_dataframe(\"df_dist_20_with_ids_ridotto\", df_dist_20_with_ids_ridotto, path_dataset)"
   ]
  },
  {
   "cell_type": "code",
   "execution_count": 26,
   "id": "0d8916d3",
   "metadata": {},
   "outputs": [
    {
     "name": "stdout",
     "output_type": "stream",
     "text": [
      "File salvato correttamente\n"
     ]
    }
   ],
   "source": [
    "save_dataframe(\"df_dist_30_with_ids_ridotto\", df_dist_30_with_ids_ridotto, path_dataset)"
   ]
  },
  {
   "cell_type": "markdown",
   "id": "1d845939",
   "metadata": {},
   "source": [
    "# Train and test extraction"
   ]
  },
  {
   "cell_type": "code",
   "execution_count": 27,
   "id": "87c00fe1",
   "metadata": {},
   "outputs": [],
   "source": [
    "def get_train_and_test(df):\n",
    "    \n",
    "    attributes = [col for col in df.columns if col != 'Class']\n",
    "    X = df[attributes]\n",
    "    y = df['Class']\n",
    "\n",
    "    X_train, X_test, y_train, y_test = train_test_split(X, y, test_size=0.2, stratify=y)\n",
    "\n",
    "    X_train['Class'] = y_train\n",
    "    X_test['Class'] = y_test\n",
    "    \n",
    "    print(\"Dettaglio delle classi nel training\")\n",
    "    print(X_train['Class'].value_counts())\n",
    "    print()\n",
    "    print(\"Dettaglio delle classi nel test\")\n",
    "    print(X_test['Class'].value_counts())\n",
    "    \n",
    "    return X_train, X_test"
   ]
  },
  {
   "cell_type": "code",
   "execution_count": 28,
   "id": "587e984d",
   "metadata": {},
   "outputs": [
    {
     "name": "stdout",
     "output_type": "stream",
     "text": [
      "Dettaglio delle classi nel training\n",
      "0    4800\n",
      "1    4800\n",
      "Name: Class, dtype: int64\n",
      "\n",
      "Dettaglio delle classi nel test\n",
      "1    1200\n",
      "0    1200\n",
      "Name: Class, dtype: int64\n"
     ]
    }
   ],
   "source": [
    "df_dist_5_with_ids_ridotto_train, df_dist_5_with_ids_ridotto_test = get_train_and_test(df_dist_5_with_ids_ridotto)"
   ]
  },
  {
   "cell_type": "code",
   "execution_count": 29,
   "id": "b355a873",
   "metadata": {},
   "outputs": [
    {
     "name": "stdout",
     "output_type": "stream",
     "text": [
      "Dettaglio delle classi nel training\n",
      "1    4800\n",
      "0    4800\n",
      "Name: Class, dtype: int64\n",
      "\n",
      "Dettaglio delle classi nel test\n",
      "0    1200\n",
      "1    1200\n",
      "Name: Class, dtype: int64\n"
     ]
    }
   ],
   "source": [
    "df_dist_10_with_ids_ridotto_train, df_dist_10_with_ids_ridotto_test = get_train_and_test(df_dist_10_with_ids_ridotto)"
   ]
  },
  {
   "cell_type": "code",
   "execution_count": 30,
   "id": "3a471c25",
   "metadata": {},
   "outputs": [
    {
     "name": "stdout",
     "output_type": "stream",
     "text": [
      "Dettaglio delle classi nel training\n",
      "1    4800\n",
      "0    4800\n",
      "Name: Class, dtype: int64\n",
      "\n",
      "Dettaglio delle classi nel test\n",
      "1    1200\n",
      "0    1200\n",
      "Name: Class, dtype: int64\n"
     ]
    }
   ],
   "source": [
    "df_dist_20_with_ids_ridotto_train, df_dist_20_with_ids_ridotto_test = get_train_and_test(df_dist_20_with_ids_ridotto)"
   ]
  },
  {
   "cell_type": "code",
   "execution_count": 31,
   "id": "f6cb3547",
   "metadata": {},
   "outputs": [
    {
     "name": "stdout",
     "output_type": "stream",
     "text": [
      "Dettaglio delle classi nel training\n",
      "0    4800\n",
      "1    4800\n",
      "Name: Class, dtype: int64\n",
      "\n",
      "Dettaglio delle classi nel test\n",
      "1    1200\n",
      "0    1200\n",
      "Name: Class, dtype: int64\n"
     ]
    }
   ],
   "source": [
    "df_dist_30_with_ids_ridotto_train, df_dist_30_with_ids_ridotto_test = get_train_and_test(df_dist_30_with_ids_ridotto)"
   ]
  },
  {
   "cell_type": "code",
   "execution_count": 32,
   "id": "c61261ec",
   "metadata": {},
   "outputs": [],
   "source": [
    "def control_datasets_shape(list_of_dfs_train, list_of_dfs_test, list_of_dfs_names):\n",
    "    \n",
    "    for train, test, df_name in zip(list_of_dfs_train, list_of_dfs_test, list_of_dfs_names):\n",
    "        print(\"{} train shape: {}\".format(df_name, train.shape))\n",
    "        print(\"{} test shape: {}\".format(df_name, test.shape))\n",
    "        print()"
   ]
  },
  {
   "cell_type": "code",
   "execution_count": 33,
   "id": "8dca451b",
   "metadata": {},
   "outputs": [
    {
     "name": "stdout",
     "output_type": "stream",
     "text": [
      "df_dist_5_with_ids_ridotto train shape: (9600, 4)\n",
      "df_dist_5_with_ids_ridotto test shape: (2400, 4)\n",
      "\n",
      "df_dist_10_with_ids_ridotto train shape: (9600, 4)\n",
      "df_dist_10_with_ids_ridotto test shape: (2400, 4)\n",
      "\n",
      "df_dist_20_with_ids_ridotto train shape: (9600, 4)\n",
      "df_dist_20_with_ids_ridotto test shape: (2400, 4)\n",
      "\n",
      "df_dist_30_with_ids_ridotto train shape: (9600, 4)\n",
      "df_dist_30_with_ids_ridotto test shape: (2400, 4)\n",
      "\n"
     ]
    }
   ],
   "source": [
    "control_datasets_shape([df_dist_5_with_ids_ridotto_train, df_dist_10_with_ids_ridotto_train, \\\n",
    "                        df_dist_20_with_ids_ridotto_train, df_dist_30_with_ids_ridotto_train], \\\n",
    "                       [df_dist_5_with_ids_ridotto_test, df_dist_10_with_ids_ridotto_test, \\\n",
    "                        df_dist_20_with_ids_ridotto_test, df_dist_30_with_ids_ridotto_test], \\\n",
    "                       [\"df_dist_5_with_ids_ridotto\", \"df_dist_10_with_ids_ridotto\", \"df_dist_20_with_ids_ridotto\", \\\n",
    "                       \"df_dist_30_with_ids_ridotto\"])"
   ]
  },
  {
   "cell_type": "code",
   "execution_count": 34,
   "id": "df74b1a2",
   "metadata": {},
   "outputs": [],
   "source": [
    "#df_dist_5_with_ids_ridotto_train = pd.read_csv(path_train_test + 'df_dist_5_with_ids_ridotto_train.csv', sep =\"\\t\")\n",
    "#df_dist_10_with_ids_ridotto_train = pd.read_csv(path_train_test + 'df_dist_10_with_ids_ridotto_train.csv', sep =\"\\t\")\n",
    "#df_dist_20_with_ids_ridotto_train = pd.read_csv(path_train_test + 'df_dist_20_with_ids_ridotto_train.csv', sep =\"\\t\")\n",
    "#df_dist_30_with_ids_ridotto_train = pd.read_csv(path_train_test + 'df_dist_30_with_ids_ridotto_train.csv', sep =\"\\t\")\n",
    "\n",
    "#df_dist_5_with_ids_ridotto_test = pd.read_csv(path_train_test + 'df_dist_5_with_ids_ridotto_test.csv', sep =\"\\t\")\n",
    "#df_dist_10_with_ids_ridotto_test = pd.read_csv(path_train_test + 'df_dist_10_with_ids_ridotto_test.csv', sep =\"\\t\")\n",
    "#df_dist_20_with_ids_ridotto_test = pd.read_csv(path_train_test + 'df_dist_20_with_ids_ridotto_test.csv', sep =\"\\t\")\n",
    "#df_dist_30_with_ids_ridotto_test = pd.read_csv(path_train_test + 'df_dist_30_with_ids_ridotto_test.csv', sep =\"\\t\")"
   ]
  },
  {
   "cell_type": "code",
   "execution_count": 35,
   "id": "34fb618a",
   "metadata": {},
   "outputs": [],
   "source": [
    "def controlla_integrita_indici_train_test(df_train, df_test):\n",
    "    \n",
    "    set_ids_train = set(df_train.Id)\n",
    "    set_ids_test = set(df_test.Id)\n",
    "    \n",
    "    intersection = set_ids_train.intersection(set_ids_test)\n",
    "    \n",
    "    if intersection:\n",
    "        return \"I due dataset contengono i seguenti indici in comune: {}\".format(\", \".join(intersection))\n",
    "    else:\n",
    "        return \"Intersezione vuota\""
   ]
  },
  {
   "cell_type": "code",
   "execution_count": 36,
   "id": "0152e449",
   "metadata": {},
   "outputs": [
    {
     "data": {
      "text/plain": [
       "'Intersezione vuota'"
      ]
     },
     "execution_count": 36,
     "metadata": {},
     "output_type": "execute_result"
    }
   ],
   "source": [
    "controlla_integrita_indici_train_test(df_dist_5_with_ids_ridotto_train, df_dist_5_with_ids_ridotto_test)"
   ]
  },
  {
   "cell_type": "code",
   "execution_count": 37,
   "id": "9eadcdd4",
   "metadata": {},
   "outputs": [
    {
     "data": {
      "text/plain": [
       "'Intersezione vuota'"
      ]
     },
     "execution_count": 37,
     "metadata": {},
     "output_type": "execute_result"
    }
   ],
   "source": [
    "controlla_integrita_indici_train_test(df_dist_10_with_ids_ridotto_train, df_dist_10_with_ids_ridotto_test)"
   ]
  },
  {
   "cell_type": "code",
   "execution_count": 38,
   "id": "fe4df210",
   "metadata": {},
   "outputs": [
    {
     "data": {
      "text/plain": [
       "'Intersezione vuota'"
      ]
     },
     "execution_count": 38,
     "metadata": {},
     "output_type": "execute_result"
    }
   ],
   "source": [
    "controlla_integrita_indici_train_test(df_dist_20_with_ids_ridotto_train, df_dist_20_with_ids_ridotto_test)"
   ]
  },
  {
   "cell_type": "code",
   "execution_count": 39,
   "id": "d06fd885",
   "metadata": {},
   "outputs": [
    {
     "data": {
      "text/plain": [
       "'Intersezione vuota'"
      ]
     },
     "execution_count": 39,
     "metadata": {},
     "output_type": "execute_result"
    }
   ],
   "source": [
    "controlla_integrita_indici_train_test(df_dist_30_with_ids_ridotto_train, df_dist_30_with_ids_ridotto_test)"
   ]
  },
  {
   "cell_type": "code",
   "execution_count": 40,
   "id": "3d120b19",
   "metadata": {},
   "outputs": [
    {
     "name": "stdout",
     "output_type": "stream",
     "text": [
      "File salvato correttamente\n"
     ]
    }
   ],
   "source": [
    "save_dataframe(\"df_dist_5_with_ids_ridotto_train\", df_dist_5_with_ids_ridotto_train, path_train_test)"
   ]
  },
  {
   "cell_type": "code",
   "execution_count": 41,
   "id": "07fb4141",
   "metadata": {},
   "outputs": [
    {
     "name": "stdout",
     "output_type": "stream",
     "text": [
      "File salvato correttamente\n"
     ]
    }
   ],
   "source": [
    "save_dataframe(\"df_dist_5_with_ids_ridotto_test\", df_dist_5_with_ids_ridotto_test, path_train_test)"
   ]
  },
  {
   "cell_type": "code",
   "execution_count": 42,
   "id": "e0defab6",
   "metadata": {},
   "outputs": [
    {
     "name": "stdout",
     "output_type": "stream",
     "text": [
      "File salvato correttamente\n"
     ]
    }
   ],
   "source": [
    "save_dataframe(\"df_dist_10_with_ids_ridotto_train\", df_dist_10_with_ids_ridotto_train, path_train_test)"
   ]
  },
  {
   "cell_type": "code",
   "execution_count": 43,
   "id": "23e5351d",
   "metadata": {},
   "outputs": [
    {
     "name": "stdout",
     "output_type": "stream",
     "text": [
      "File salvato correttamente\n"
     ]
    }
   ],
   "source": [
    "save_dataframe(\"df_dist_10_with_ids_ridotto_test\", df_dist_10_with_ids_ridotto_test, path_train_test)"
   ]
  },
  {
   "cell_type": "code",
   "execution_count": 44,
   "id": "8d653d14",
   "metadata": {},
   "outputs": [
    {
     "name": "stdout",
     "output_type": "stream",
     "text": [
      "File salvato correttamente\n"
     ]
    }
   ],
   "source": [
    "save_dataframe(\"df_dist_20_with_ids_ridotto_train\", df_dist_20_with_ids_ridotto_train, path_train_test)"
   ]
  },
  {
   "cell_type": "code",
   "execution_count": 45,
   "id": "320e04ba",
   "metadata": {},
   "outputs": [
    {
     "name": "stdout",
     "output_type": "stream",
     "text": [
      "File salvato correttamente\n"
     ]
    }
   ],
   "source": [
    "save_dataframe(\"df_dist_20_with_ids_ridotto_test\", df_dist_20_with_ids_ridotto_test, path_train_test)"
   ]
  },
  {
   "cell_type": "code",
   "execution_count": 46,
   "id": "3e12e4e3",
   "metadata": {},
   "outputs": [
    {
     "name": "stdout",
     "output_type": "stream",
     "text": [
      "File salvato correttamente\n"
     ]
    }
   ],
   "source": [
    "save_dataframe(\"df_dist_30_with_ids_ridotto_train\", df_dist_30_with_ids_ridotto_train, path_train_test)"
   ]
  },
  {
   "cell_type": "code",
   "execution_count": 47,
   "id": "1eef6afe",
   "metadata": {},
   "outputs": [
    {
     "name": "stdout",
     "output_type": "stream",
     "text": [
      "File salvato correttamente\n"
     ]
    }
   ],
   "source": [
    "save_dataframe(\"df_dist_30_with_ids_ridotto_test\", df_dist_30_with_ids_ridotto_test, path_train_test)"
   ]
  },
  {
   "cell_type": "code",
   "execution_count": null,
   "id": "a9b83dc3",
   "metadata": {},
   "outputs": [],
   "source": []
  },
  {
   "cell_type": "code",
   "execution_count": 48,
   "id": "15137bc2",
   "metadata": {},
   "outputs": [
    {
     "data": {
      "text/html": [
       "<div>\n",
       "<style scoped>\n",
       "    .dataframe tbody tr th:only-of-type {\n",
       "        vertical-align: middle;\n",
       "    }\n",
       "\n",
       "    .dataframe tbody tr th {\n",
       "        vertical-align: top;\n",
       "    }\n",
       "\n",
       "    .dataframe thead th {\n",
       "        text-align: right;\n",
       "    }\n",
       "</style>\n",
       "<table border=\"1\" class=\"dataframe\">\n",
       "  <thead>\n",
       "    <tr style=\"text-align: right;\">\n",
       "      <th></th>\n",
       "      <th>Id</th>\n",
       "      <th>Sentence_1</th>\n",
       "      <th>Sentence_2</th>\n",
       "      <th>Class</th>\n",
       "    </tr>\n",
       "  </thead>\n",
       "  <tbody>\n",
       "    <tr>\n",
       "      <th>99065</th>\n",
       "      <td>46278</td>\n",
       "      <td>Fortunatamente, o sfortunatamente, per noi, va...</td>\n",
       "      <td>Ma resta una disciplina quasi esoterica.</td>\n",
       "      <td>0</td>\n",
       "    </tr>\n",
       "    <tr>\n",
       "      <th>692</th>\n",
       "      <td>108834</td>\n",
       "      <td>Anche se dobbiamo solidarietà a queste persone...</td>\n",
       "      <td>Abbiamo dimenticato la differenza fra tolleran...</td>\n",
       "      <td>1</td>\n",
       "    </tr>\n",
       "    <tr>\n",
       "      <th>12129</th>\n",
       "      <td>171791</td>\n",
       "      <td>Noi siamo gli occhi e voi le braccia e le gambe.</td>\n",
       "      <td>A quell'età ero già artigiano professionista c...</td>\n",
       "      <td>1</td>\n",
       "    </tr>\n",
       "    <tr>\n",
       "      <th>75688</th>\n",
       "      <td>132617</td>\n",
       "      <td>Le lavoratrici allora sono divise tra chi ha t...</td>\n",
       "      <td>Ma anche chi ha tante tutele, in realtà, non h...</td>\n",
       "      <td>0</td>\n",
       "    </tr>\n",
       "    <tr>\n",
       "      <th>73239</th>\n",
       "      <td>31599</td>\n",
       "      <td>26/5/1925 - E.P, Ezra Pound\".</td>\n",
       "      <td>E poco sotto, nella stessa pagina, con una scr...</td>\n",
       "      <td>0</td>\n",
       "    </tr>\n",
       "    <tr>\n",
       "      <th>...</th>\n",
       "      <td>...</td>\n",
       "      <td>...</td>\n",
       "      <td>...</td>\n",
       "      <td>...</td>\n",
       "    </tr>\n",
       "    <tr>\n",
       "      <th>26788</th>\n",
       "      <td>61655</td>\n",
       "      <td>Ma andiamo a fare un giro in un altro posto ec...</td>\n",
       "      <td>Oggi che cosa succede?</td>\n",
       "      <td>1</td>\n",
       "    </tr>\n",
       "    <tr>\n",
       "      <th>74512</th>\n",
       "      <td>178051</td>\n",
       "      <td>Il giorno dopo, ricordo la tristezza infinita,...</td>\n",
       "      <td>Al Delle Alpi piansi, come la maggior parte de...</td>\n",
       "      <td>0</td>\n",
       "    </tr>\n",
       "    <tr>\n",
       "      <th>21429</th>\n",
       "      <td>135109</td>\n",
       "      <td>Lo ripeteva di continuo, un'Ave Maria dopo l'a...</td>\n",
       "      <td>Non l'aveva mai visto.</td>\n",
       "      <td>1</td>\n",
       "    </tr>\n",
       "    <tr>\n",
       "      <th>28195</th>\n",
       "      <td>21150</td>\n",
       "      <td>E allora come fanno gli ingegneri a progettare...</td>\n",
       "      <td>E questo potrebbe accadere in un futuro non co...</td>\n",
       "      <td>1</td>\n",
       "    </tr>\n",
       "    <tr>\n",
       "      <th>12042</th>\n",
       "      <td>192736</td>\n",
       "      <td>Respira, Giulia!</td>\n",
       "      <td>Dai ragazzi ma qui c'è lo schermo, il pubblico...</td>\n",
       "      <td>1</td>\n",
       "    </tr>\n",
       "  </tbody>\n",
       "</table>\n",
       "<p>9600 rows × 4 columns</p>\n",
       "</div>"
      ],
      "text/plain": [
       "           Id                                         Sentence_1  \\\n",
       "99065   46278  Fortunatamente, o sfortunatamente, per noi, va...   \n",
       "692    108834  Anche se dobbiamo solidarietà a queste persone...   \n",
       "12129  171791   Noi siamo gli occhi e voi le braccia e le gambe.   \n",
       "75688  132617  Le lavoratrici allora sono divise tra chi ha t...   \n",
       "73239   31599                      26/5/1925 - E.P, Ezra Pound\".   \n",
       "...       ...                                                ...   \n",
       "26788   61655  Ma andiamo a fare un giro in un altro posto ec...   \n",
       "74512  178051  Il giorno dopo, ricordo la tristezza infinita,...   \n",
       "21429  135109  Lo ripeteva di continuo, un'Ave Maria dopo l'a...   \n",
       "28195   21150  E allora come fanno gli ingegneri a progettare...   \n",
       "12042  192736                                   Respira, Giulia!   \n",
       "\n",
       "                                              Sentence_2  Class  \n",
       "99065           Ma resta una disciplina quasi esoterica.      0  \n",
       "692    Abbiamo dimenticato la differenza fra tolleran...      1  \n",
       "12129  A quell'età ero già artigiano professionista c...      1  \n",
       "75688  Ma anche chi ha tante tutele, in realtà, non h...      0  \n",
       "73239  E poco sotto, nella stessa pagina, con una scr...      0  \n",
       "...                                                  ...    ...  \n",
       "26788                             Oggi che cosa succede?      1  \n",
       "74512  Al Delle Alpi piansi, come la maggior parte de...      0  \n",
       "21429                             Non l'aveva mai visto.      1  \n",
       "28195  E questo potrebbe accadere in un futuro non co...      1  \n",
       "12042  Dai ragazzi ma qui c'è lo schermo, il pubblico...      1  \n",
       "\n",
       "[9600 rows x 4 columns]"
      ]
     },
     "execution_count": 48,
     "metadata": {},
     "output_type": "execute_result"
    }
   ],
   "source": [
    "df_dist_5_with_ids_ridotto_train"
   ]
  },
  {
   "cell_type": "code",
   "execution_count": 49,
   "id": "52fef1d0",
   "metadata": {},
   "outputs": [
    {
     "data": {
      "text/html": [
       "<div>\n",
       "<style scoped>\n",
       "    .dataframe tbody tr th:only-of-type {\n",
       "        vertical-align: middle;\n",
       "    }\n",
       "\n",
       "    .dataframe tbody tr th {\n",
       "        vertical-align: top;\n",
       "    }\n",
       "\n",
       "    .dataframe thead th {\n",
       "        text-align: right;\n",
       "    }\n",
       "</style>\n",
       "<table border=\"1\" class=\"dataframe\">\n",
       "  <thead>\n",
       "    <tr style=\"text-align: right;\">\n",
       "      <th></th>\n",
       "      <th>Id</th>\n",
       "      <th>Sentence_1</th>\n",
       "      <th>Sentence_2</th>\n",
       "      <th>Class</th>\n",
       "    </tr>\n",
       "  </thead>\n",
       "  <tbody>\n",
       "    <tr>\n",
       "      <th>24903</th>\n",
       "      <td>29327</td>\n",
       "      <td>Goldman Prize, che è un po' il Nobel dell'ambi...</td>\n",
       "      <td>Se voi passeggiate per Cerro de Pasco, o per q...</td>\n",
       "      <td>1</td>\n",
       "    </tr>\n",
       "    <tr>\n",
       "      <th>43869</th>\n",
       "      <td>67142</td>\n",
       "      <td>Nonostante sia stato terminato come progetto, ...</td>\n",
       "      <td>In più, si prestano benissimo questi moduli ad...</td>\n",
       "      <td>1</td>\n",
       "    </tr>\n",
       "    <tr>\n",
       "      <th>63158</th>\n",
       "      <td>9675</td>\n",
       "      <td>Non l'aveva mai visto.</td>\n",
       "      <td>Se l'era immaginato tante volte ma anche adess...</td>\n",
       "      <td>0</td>\n",
       "    </tr>\n",
       "    <tr>\n",
       "      <th>94044</th>\n",
       "      <td>16322</td>\n",
       "      <td>E in quel momento senza nessun dubbio abbiamo ...</td>\n",
       "      <td>Vedete, in quel momento ho capito una cosa mol...</td>\n",
       "      <td>0</td>\n",
       "    </tr>\n",
       "    <tr>\n",
       "      <th>56882</th>\n",
       "      <td>71604</td>\n",
       "      <td>I giornalisti di ProPublica, una testata inves...</td>\n",
       "      <td>Ora, come non è vero che i miei capelli rossi ...</td>\n",
       "      <td>0</td>\n",
       "    </tr>\n",
       "    <tr>\n",
       "      <th>...</th>\n",
       "      <td>...</td>\n",
       "      <td>...</td>\n",
       "      <td>...</td>\n",
       "      <td>...</td>\n",
       "    </tr>\n",
       "    <tr>\n",
       "      <th>37776</th>\n",
       "      <td>171348</td>\n",
       "      <td>Dietro però c'è stato un piano e c'è anche un ...</td>\n",
       "      <td>Tra parentesi, la settimana scorsa vari sondag...</td>\n",
       "      <td>1</td>\n",
       "    </tr>\n",
       "    <tr>\n",
       "      <th>61499</th>\n",
       "      <td>180390</td>\n",
       "      <td>Succede spesso.</td>\n",
       "      <td>Se sanguino, ovviamente la medicazione la fa l...</td>\n",
       "      <td>0</td>\n",
       "    </tr>\n",
       "    <tr>\n",
       "      <th>26159</th>\n",
       "      <td>195372</td>\n",
       "      <td>Perché dovremmo impegnarci in questa combinazi...</td>\n",
       "      <td>Perché impegnarci in questa combinazione di sk...</td>\n",
       "      <td>1</td>\n",
       "    </tr>\n",
       "    <tr>\n",
       "      <th>60520</th>\n",
       "      <td>84571</td>\n",
       "      <td>Al contrario, in inverno, si vede la Via Latte...</td>\n",
       "      <td>Presenta meno colori, meno forme e soprattutto...</td>\n",
       "      <td>0</td>\n",
       "    </tr>\n",
       "    <tr>\n",
       "      <th>91389</th>\n",
       "      <td>16522</td>\n",
       "      <td>Pensate che alla fine degli anni Novanta si pe...</td>\n",
       "      <td>In realtà si è capito che eravamo solo all'ini...</td>\n",
       "      <td>0</td>\n",
       "    </tr>\n",
       "  </tbody>\n",
       "</table>\n",
       "<p>2400 rows × 4 columns</p>\n",
       "</div>"
      ],
      "text/plain": [
       "           Id                                         Sentence_1  \\\n",
       "24903   29327  Goldman Prize, che è un po' il Nobel dell'ambi...   \n",
       "43869   67142  Nonostante sia stato terminato come progetto, ...   \n",
       "63158    9675                             Non l'aveva mai visto.   \n",
       "94044   16322  E in quel momento senza nessun dubbio abbiamo ...   \n",
       "56882   71604  I giornalisti di ProPublica, una testata inves...   \n",
       "...       ...                                                ...   \n",
       "37776  171348  Dietro però c'è stato un piano e c'è anche un ...   \n",
       "61499  180390                                    Succede spesso.   \n",
       "26159  195372  Perché dovremmo impegnarci in questa combinazi...   \n",
       "60520   84571  Al contrario, in inverno, si vede la Via Latte...   \n",
       "91389   16522  Pensate che alla fine degli anni Novanta si pe...   \n",
       "\n",
       "                                              Sentence_2  Class  \n",
       "24903  Se voi passeggiate per Cerro de Pasco, o per q...      1  \n",
       "43869  In più, si prestano benissimo questi moduli ad...      1  \n",
       "63158  Se l'era immaginato tante volte ma anche adess...      0  \n",
       "94044  Vedete, in quel momento ho capito una cosa mol...      0  \n",
       "56882  Ora, come non è vero che i miei capelli rossi ...      0  \n",
       "...                                                  ...    ...  \n",
       "37776  Tra parentesi, la settimana scorsa vari sondag...      1  \n",
       "61499  Se sanguino, ovviamente la medicazione la fa l...      0  \n",
       "26159  Perché impegnarci in questa combinazione di sk...      1  \n",
       "60520  Presenta meno colori, meno forme e soprattutto...      0  \n",
       "91389  In realtà si è capito che eravamo solo all'ini...      0  \n",
       "\n",
       "[2400 rows x 4 columns]"
      ]
     },
     "execution_count": 49,
     "metadata": {},
     "output_type": "execute_result"
    }
   ],
   "source": [
    "df_dist_5_with_ids_ridotto_test"
   ]
  },
  {
   "cell_type": "code",
   "execution_count": null,
   "id": "c52e70ae",
   "metadata": {},
   "outputs": [],
   "source": []
  }
 ],
 "metadata": {
  "kernelspec": {
   "display_name": "Python 3 (ipykernel)",
   "language": "python",
   "name": "python3"
  },
  "language_info": {
   "codemirror_mode": {
    "name": "ipython",
    "version": 3
   },
   "file_extension": ".py",
   "mimetype": "text/x-python",
   "name": "python",
   "nbconvert_exporter": "python",
   "pygments_lexer": "ipython3",
   "version": "3.8.12"
  }
 },
 "nbformat": 4,
 "nbformat_minor": 5
}
